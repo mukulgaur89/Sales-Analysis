{
 "cells": [
  {
   "cell_type": "code",
   "execution_count": 1,
   "id": "c5a602a7",
   "metadata": {
    "_cell_guid": "b1076dfc-b9ad-4769-8c92-a6c4dae69d19",
    "_uuid": "8f2839f25d086af736a60e9eeb907d3b93b6e0e5",
    "execution": {
     "iopub.execute_input": "2023-02-22T10:29:11.490916Z",
     "iopub.status.busy": "2023-02-22T10:29:11.490407Z",
     "iopub.status.idle": "2023-02-22T10:29:11.507490Z",
     "shell.execute_reply": "2023-02-22T10:29:11.506097Z"
    },
    "papermill": {
     "duration": 0.035563,
     "end_time": "2023-02-22T10:29:11.510857",
     "exception": false,
     "start_time": "2023-02-22T10:29:11.475294",
     "status": "completed"
    },
    "tags": []
   },
   "outputs": [
    {
     "name": "stdout",
     "output_type": "stream",
     "text": [
      "/kaggle/input/sales-data/Sales_August_2019.csv\n",
      "/kaggle/input/sales-data/Sales_May_2019.csv\n",
      "/kaggle/input/sales-data/Sales_February_2019.csv\n",
      "/kaggle/input/sales-data/Sales_November_2019.csv\n",
      "/kaggle/input/sales-data/Sales_January_2019.csv\n",
      "/kaggle/input/sales-data/Sales_March_2019.csv\n",
      "/kaggle/input/sales-data/Sales_September_2019.csv\n",
      "/kaggle/input/sales-data/Sales_April_2019.csv\n",
      "/kaggle/input/sales-data/Sales_July_2019.csv\n",
      "/kaggle/input/sales-data/Sales_October_2019.csv\n",
      "/kaggle/input/sales-data/Sales_June_2019.csv\n",
      "/kaggle/input/sales-data/Sales_December_2019.csv\n"
     ]
    }
   ],
   "source": [
    "# This Python 3 environment comes with many helpful analytics libraries installed\n",
    "# It is defined by the kaggle/python Docker image: https://github.com/kaggle/docker-python\n",
    "# For example, here's several helpful packages to load\n",
    "\n",
    "import numpy as np # linear algebra\n",
    "import pandas as pd # data processing, CSV file I/O (e.g. pd.read_csv)\n",
    "import matplotlib.pyplot as plt\n",
    "import os\n",
    "# Input data files are available in the read-only \"../input/\" directory\n",
    "# For example, running this (by clicking run or pressing Shift+Enter) will list all files under the input directory\n",
    "\n",
    "import os\n",
    "for dirname, _, filenames in os.walk('/kaggle/input'):\n",
    "    for filename in filenames:\n",
    "        print(os.path.join(dirname, filename))\n",
    "\n",
    "# You can write up to 20GB to the current directory (/kaggle/working/) that gets preserved as output when you create a version using \"Save & Run All\" \n",
    "# You can also write temporary files to /kaggle/temp/, but they won't be saved outside of the current session"
   ]
  },
  {
   "cell_type": "code",
   "execution_count": 2,
   "id": "d6b5028f",
   "metadata": {
    "execution": {
     "iopub.execute_input": "2023-02-22T10:29:11.537692Z",
     "iopub.status.busy": "2023-02-22T10:29:11.537235Z",
     "iopub.status.idle": "2023-02-22T10:29:11.543635Z",
     "shell.execute_reply": "2023-02-22T10:29:11.542755Z"
    },
    "papermill": {
     "duration": 0.022993,
     "end_time": "2023-02-22T10:29:11.546251",
     "exception": false,
     "start_time": "2023-02-22T10:29:11.523258",
     "status": "completed"
    },
    "tags": []
   },
   "outputs": [
    {
     "name": "stdout",
     "output_type": "stream",
     "text": [
      "Sales_August_2019.csv\n",
      "Sales_May_2019.csv\n",
      "Sales_February_2019.csv\n",
      "Sales_November_2019.csv\n",
      "Sales_January_2019.csv\n",
      "Sales_March_2019.csv\n",
      "Sales_September_2019.csv\n",
      "Sales_April_2019.csv\n",
      "Sales_July_2019.csv\n",
      "Sales_October_2019.csv\n",
      "Sales_June_2019.csv\n",
      "Sales_December_2019.csv\n"
     ]
    }
   ],
   "source": [
    "files=[file for file in os.listdir('/kaggle/input/sales-data')]\n",
    "for file in files:\n",
    "    print(file)"
   ]
  },
  {
   "cell_type": "code",
   "execution_count": 3,
   "id": "942c235e",
   "metadata": {
    "execution": {
     "iopub.execute_input": "2023-02-22T10:29:11.569627Z",
     "iopub.status.busy": "2023-02-22T10:29:11.569170Z",
     "iopub.status.idle": "2023-02-22T10:29:12.539473Z",
     "shell.execute_reply": "2023-02-22T10:29:12.537977Z"
    },
    "papermill": {
     "duration": 0.985904,
     "end_time": "2023-02-22T10:29:12.543066",
     "exception": false,
     "start_time": "2023-02-22T10:29:11.557162",
     "status": "completed"
    },
    "tags": []
   },
   "outputs": [],
   "source": [
    "sales_all=pd.DataFrame()\n",
    "for file in files:\n",
    "    df=pd.read_csv('/kaggle/input/sales-data/'+file)\n",
    "    sales_all=pd.concat([sales_all,df])"
   ]
  },
  {
   "cell_type": "code",
   "execution_count": 4,
   "id": "67b2ca90",
   "metadata": {
    "execution": {
     "iopub.execute_input": "2023-02-22T10:29:12.579338Z",
     "iopub.status.busy": "2023-02-22T10:29:12.578890Z",
     "iopub.status.idle": "2023-02-22T10:29:13.213160Z",
     "shell.execute_reply": "2023-02-22T10:29:13.211828Z"
    },
    "papermill": {
     "duration": 0.65293,
     "end_time": "2023-02-22T10:29:13.216830",
     "exception": false,
     "start_time": "2023-02-22T10:29:12.563900",
     "status": "completed"
    },
    "tags": []
   },
   "outputs": [],
   "source": [
    "sales_all.to_csv('sales_all.csv',index=False)"
   ]
  },
  {
   "cell_type": "code",
   "execution_count": 5,
   "id": "e9b5e8af",
   "metadata": {
    "execution": {
     "iopub.execute_input": "2023-02-22T10:29:13.246269Z",
     "iopub.status.busy": "2023-02-22T10:29:13.245845Z",
     "iopub.status.idle": "2023-02-22T10:29:13.280536Z",
     "shell.execute_reply": "2023-02-22T10:29:13.279401Z"
    },
    "papermill": {
     "duration": 0.050384,
     "end_time": "2023-02-22T10:29:13.283374",
     "exception": false,
     "start_time": "2023-02-22T10:29:13.232990",
     "status": "completed"
    },
    "tags": []
   },
   "outputs": [
    {
     "data": {
      "text/html": [
       "<div>\n",
       "<style scoped>\n",
       "    .dataframe tbody tr th:only-of-type {\n",
       "        vertical-align: middle;\n",
       "    }\n",
       "\n",
       "    .dataframe tbody tr th {\n",
       "        vertical-align: top;\n",
       "    }\n",
       "\n",
       "    .dataframe thead th {\n",
       "        text-align: right;\n",
       "    }\n",
       "</style>\n",
       "<table border=\"1\" class=\"dataframe\">\n",
       "  <thead>\n",
       "    <tr style=\"text-align: right;\">\n",
       "      <th></th>\n",
       "      <th>Order ID</th>\n",
       "      <th>Product</th>\n",
       "      <th>Quantity Ordered</th>\n",
       "      <th>Price Each</th>\n",
       "      <th>Order Date</th>\n",
       "      <th>Purchase Address</th>\n",
       "    </tr>\n",
       "  </thead>\n",
       "  <tbody>\n",
       "    <tr>\n",
       "      <th>0</th>\n",
       "      <td>236670</td>\n",
       "      <td>Wired Headphones</td>\n",
       "      <td>2</td>\n",
       "      <td>11.99</td>\n",
       "      <td>08/31/19 22:21</td>\n",
       "      <td>359 Spruce St, Seattle, WA 98101</td>\n",
       "    </tr>\n",
       "    <tr>\n",
       "      <th>1</th>\n",
       "      <td>236671</td>\n",
       "      <td>Bose SoundSport Headphones</td>\n",
       "      <td>1</td>\n",
       "      <td>99.99</td>\n",
       "      <td>08/15/19 15:11</td>\n",
       "      <td>492 Ridge St, Dallas, TX 75001</td>\n",
       "    </tr>\n",
       "    <tr>\n",
       "      <th>2</th>\n",
       "      <td>236672</td>\n",
       "      <td>iPhone</td>\n",
       "      <td>1</td>\n",
       "      <td>700.0</td>\n",
       "      <td>08/06/19 14:40</td>\n",
       "      <td>149 7th St, Portland, OR 97035</td>\n",
       "    </tr>\n",
       "    <tr>\n",
       "      <th>3</th>\n",
       "      <td>236673</td>\n",
       "      <td>AA Batteries (4-pack)</td>\n",
       "      <td>2</td>\n",
       "      <td>3.84</td>\n",
       "      <td>08/29/19 20:59</td>\n",
       "      <td>631 2nd St, Los Angeles, CA 90001</td>\n",
       "    </tr>\n",
       "    <tr>\n",
       "      <th>4</th>\n",
       "      <td>236674</td>\n",
       "      <td>AA Batteries (4-pack)</td>\n",
       "      <td>2</td>\n",
       "      <td>3.84</td>\n",
       "      <td>08/15/19 19:53</td>\n",
       "      <td>736 14th St, New York City, NY 10001</td>\n",
       "    </tr>\n",
       "  </tbody>\n",
       "</table>\n",
       "</div>"
      ],
      "text/plain": [
       "  Order ID                     Product Quantity Ordered Price Each  \\\n",
       "0   236670            Wired Headphones                2      11.99   \n",
       "1   236671  Bose SoundSport Headphones                1      99.99   \n",
       "2   236672                      iPhone                1      700.0   \n",
       "3   236673       AA Batteries (4-pack)                2       3.84   \n",
       "4   236674       AA Batteries (4-pack)                2       3.84   \n",
       "\n",
       "       Order Date                      Purchase Address  \n",
       "0  08/31/19 22:21      359 Spruce St, Seattle, WA 98101  \n",
       "1  08/15/19 15:11        492 Ridge St, Dallas, TX 75001  \n",
       "2  08/06/19 14:40        149 7th St, Portland, OR 97035  \n",
       "3  08/29/19 20:59     631 2nd St, Los Angeles, CA 90001  \n",
       "4  08/15/19 19:53  736 14th St, New York City, NY 10001  "
      ]
     },
     "execution_count": 5,
     "metadata": {},
     "output_type": "execute_result"
    }
   ],
   "source": [
    "sales_all.head()"
   ]
  },
  {
   "cell_type": "code",
   "execution_count": 6,
   "id": "1e831a3f",
   "metadata": {
    "execution": {
     "iopub.execute_input": "2023-02-22T10:29:13.308088Z",
     "iopub.status.busy": "2023-02-22T10:29:13.306926Z",
     "iopub.status.idle": "2023-02-22T10:29:13.366447Z",
     "shell.execute_reply": "2023-02-22T10:29:13.365065Z"
    },
    "papermill": {
     "duration": 0.074488,
     "end_time": "2023-02-22T10:29:13.369005",
     "exception": false,
     "start_time": "2023-02-22T10:29:13.294517",
     "status": "completed"
    },
    "tags": []
   },
   "outputs": [
    {
     "data": {
      "text/plain": [
       "Order ID            545\n",
       "Product             545\n",
       "Quantity Ordered    545\n",
       "Price Each          545\n",
       "Order Date          545\n",
       "Purchase Address    545\n",
       "dtype: int64"
      ]
     },
     "execution_count": 6,
     "metadata": {},
     "output_type": "execute_result"
    }
   ],
   "source": [
    "sales_all.isna().sum()"
   ]
  },
  {
   "cell_type": "code",
   "execution_count": 7,
   "id": "49a5b9f4",
   "metadata": {
    "execution": {
     "iopub.execute_input": "2023-02-22T10:29:13.393944Z",
     "iopub.status.busy": "2023-02-22T10:29:13.392803Z",
     "iopub.status.idle": "2023-02-22T10:29:13.483344Z",
     "shell.execute_reply": "2023-02-22T10:29:13.482159Z"
    },
    "papermill": {
     "duration": 0.106043,
     "end_time": "2023-02-22T10:29:13.486263",
     "exception": false,
     "start_time": "2023-02-22T10:29:13.380220",
     "status": "completed"
    },
    "tags": []
   },
   "outputs": [],
   "source": [
    "sales_all=sales_all.dropna(how='any')"
   ]
  },
  {
   "cell_type": "code",
   "execution_count": 8,
   "id": "c432ac3e",
   "metadata": {
    "execution": {
     "iopub.execute_input": "2023-02-22T10:29:13.510693Z",
     "iopub.status.busy": "2023-02-22T10:29:13.510227Z",
     "iopub.status.idle": "2023-02-22T10:29:13.566966Z",
     "shell.execute_reply": "2023-02-22T10:29:13.565875Z"
    },
    "papermill": {
     "duration": 0.072003,
     "end_time": "2023-02-22T10:29:13.569612",
     "exception": false,
     "start_time": "2023-02-22T10:29:13.497609",
     "status": "completed"
    },
    "tags": []
   },
   "outputs": [
    {
     "data": {
      "text/plain": [
       "Order ID            0\n",
       "Product             0\n",
       "Quantity Ordered    0\n",
       "Price Each          0\n",
       "Order Date          0\n",
       "Purchase Address    0\n",
       "dtype: int64"
      ]
     },
     "execution_count": 8,
     "metadata": {},
     "output_type": "execute_result"
    }
   ],
   "source": [
    "sales_all.isna().sum()"
   ]
  },
  {
   "cell_type": "markdown",
   "id": "a377d529",
   "metadata": {
    "papermill": {
     "duration": 0.010955,
     "end_time": "2023-02-22T10:29:13.592017",
     "exception": false,
     "start_time": "2023-02-22T10:29:13.581062",
     "status": "completed"
    },
    "tags": []
   },
   "source": [
    "# Best month for sale"
   ]
  },
  {
   "cell_type": "code",
   "execution_count": 9,
   "id": "bb77a105",
   "metadata": {
    "execution": {
     "iopub.execute_input": "2023-02-22T10:29:13.617868Z",
     "iopub.status.busy": "2023-02-22T10:29:13.617086Z",
     "iopub.status.idle": "2023-02-22T10:29:13.622307Z",
     "shell.execute_reply": "2023-02-22T10:29:13.621206Z"
    },
    "papermill": {
     "duration": 0.020774,
     "end_time": "2023-02-22T10:29:13.624973",
     "exception": false,
     "start_time": "2023-02-22T10:29:13.604199",
     "status": "completed"
    },
    "tags": []
   },
   "outputs": [],
   "source": [
    "def month(x):\n",
    "    return x.split('/')[0]"
   ]
  },
  {
   "cell_type": "code",
   "execution_count": 10,
   "id": "9fb9eaa0",
   "metadata": {
    "execution": {
     "iopub.execute_input": "2023-02-22T10:29:13.649723Z",
     "iopub.status.busy": "2023-02-22T10:29:13.649286Z",
     "iopub.status.idle": "2023-02-22T10:29:13.763372Z",
     "shell.execute_reply": "2023-02-22T10:29:13.761871Z"
    },
    "papermill": {
     "duration": 0.130344,
     "end_time": "2023-02-22T10:29:13.766692",
     "exception": false,
     "start_time": "2023-02-22T10:29:13.636348",
     "status": "completed"
    },
    "tags": []
   },
   "outputs": [],
   "source": [
    "sales_all['month']=sales_all['Order Date'].apply(month)"
   ]
  },
  {
   "cell_type": "code",
   "execution_count": 11,
   "id": "7f03538d",
   "metadata": {
    "execution": {
     "iopub.execute_input": "2023-02-22T10:29:13.791533Z",
     "iopub.status.busy": "2023-02-22T10:29:13.791042Z",
     "iopub.status.idle": "2023-02-22T10:29:13.813377Z",
     "shell.execute_reply": "2023-02-22T10:29:13.812036Z"
    },
    "papermill": {
     "duration": 0.038572,
     "end_time": "2023-02-22T10:29:13.816663",
     "exception": false,
     "start_time": "2023-02-22T10:29:13.778091",
     "status": "completed"
    },
    "tags": []
   },
   "outputs": [
    {
     "data": {
      "text/html": [
       "<div>\n",
       "<style scoped>\n",
       "    .dataframe tbody tr th:only-of-type {\n",
       "        vertical-align: middle;\n",
       "    }\n",
       "\n",
       "    .dataframe tbody tr th {\n",
       "        vertical-align: top;\n",
       "    }\n",
       "\n",
       "    .dataframe thead th {\n",
       "        text-align: right;\n",
       "    }\n",
       "</style>\n",
       "<table border=\"1\" class=\"dataframe\">\n",
       "  <thead>\n",
       "    <tr style=\"text-align: right;\">\n",
       "      <th></th>\n",
       "      <th>Order ID</th>\n",
       "      <th>Product</th>\n",
       "      <th>Quantity Ordered</th>\n",
       "      <th>Price Each</th>\n",
       "      <th>Order Date</th>\n",
       "      <th>Purchase Address</th>\n",
       "      <th>month</th>\n",
       "    </tr>\n",
       "  </thead>\n",
       "  <tbody>\n",
       "    <tr>\n",
       "      <th>0</th>\n",
       "      <td>236670</td>\n",
       "      <td>Wired Headphones</td>\n",
       "      <td>2</td>\n",
       "      <td>11.99</td>\n",
       "      <td>08/31/19 22:21</td>\n",
       "      <td>359 Spruce St, Seattle, WA 98101</td>\n",
       "      <td>08</td>\n",
       "    </tr>\n",
       "    <tr>\n",
       "      <th>1</th>\n",
       "      <td>236671</td>\n",
       "      <td>Bose SoundSport Headphones</td>\n",
       "      <td>1</td>\n",
       "      <td>99.99</td>\n",
       "      <td>08/15/19 15:11</td>\n",
       "      <td>492 Ridge St, Dallas, TX 75001</td>\n",
       "      <td>08</td>\n",
       "    </tr>\n",
       "    <tr>\n",
       "      <th>2</th>\n",
       "      <td>236672</td>\n",
       "      <td>iPhone</td>\n",
       "      <td>1</td>\n",
       "      <td>700.0</td>\n",
       "      <td>08/06/19 14:40</td>\n",
       "      <td>149 7th St, Portland, OR 97035</td>\n",
       "      <td>08</td>\n",
       "    </tr>\n",
       "    <tr>\n",
       "      <th>3</th>\n",
       "      <td>236673</td>\n",
       "      <td>AA Batteries (4-pack)</td>\n",
       "      <td>2</td>\n",
       "      <td>3.84</td>\n",
       "      <td>08/29/19 20:59</td>\n",
       "      <td>631 2nd St, Los Angeles, CA 90001</td>\n",
       "      <td>08</td>\n",
       "    </tr>\n",
       "    <tr>\n",
       "      <th>4</th>\n",
       "      <td>236674</td>\n",
       "      <td>AA Batteries (4-pack)</td>\n",
       "      <td>2</td>\n",
       "      <td>3.84</td>\n",
       "      <td>08/15/19 19:53</td>\n",
       "      <td>736 14th St, New York City, NY 10001</td>\n",
       "      <td>08</td>\n",
       "    </tr>\n",
       "    <tr>\n",
       "      <th>...</th>\n",
       "      <td>...</td>\n",
       "      <td>...</td>\n",
       "      <td>...</td>\n",
       "      <td>...</td>\n",
       "      <td>...</td>\n",
       "      <td>...</td>\n",
       "      <td>...</td>\n",
       "    </tr>\n",
       "    <tr>\n",
       "      <th>25112</th>\n",
       "      <td>319666</td>\n",
       "      <td>Lightning Charging Cable</td>\n",
       "      <td>1</td>\n",
       "      <td>14.95</td>\n",
       "      <td>12/11/19 20:58</td>\n",
       "      <td>14 Madison St, San Francisco, CA 94016</td>\n",
       "      <td>12</td>\n",
       "    </tr>\n",
       "    <tr>\n",
       "      <th>25113</th>\n",
       "      <td>319667</td>\n",
       "      <td>AA Batteries (4-pack)</td>\n",
       "      <td>2</td>\n",
       "      <td>3.84</td>\n",
       "      <td>12/01/19 12:01</td>\n",
       "      <td>549 Willow St, Los Angeles, CA 90001</td>\n",
       "      <td>12</td>\n",
       "    </tr>\n",
       "    <tr>\n",
       "      <th>25114</th>\n",
       "      <td>319668</td>\n",
       "      <td>Vareebadd Phone</td>\n",
       "      <td>1</td>\n",
       "      <td>400</td>\n",
       "      <td>12/09/19 06:43</td>\n",
       "      <td>273 Wilson St, Seattle, WA 98101</td>\n",
       "      <td>12</td>\n",
       "    </tr>\n",
       "    <tr>\n",
       "      <th>25115</th>\n",
       "      <td>319669</td>\n",
       "      <td>Wired Headphones</td>\n",
       "      <td>1</td>\n",
       "      <td>11.99</td>\n",
       "      <td>12/03/19 10:39</td>\n",
       "      <td>778 River St, Dallas, TX 75001</td>\n",
       "      <td>12</td>\n",
       "    </tr>\n",
       "    <tr>\n",
       "      <th>25116</th>\n",
       "      <td>319670</td>\n",
       "      <td>Bose SoundSport Headphones</td>\n",
       "      <td>1</td>\n",
       "      <td>99.99</td>\n",
       "      <td>12/21/19 21:45</td>\n",
       "      <td>747 Chestnut St, Los Angeles, CA 90001</td>\n",
       "      <td>12</td>\n",
       "    </tr>\n",
       "  </tbody>\n",
       "</table>\n",
       "<p>186305 rows × 7 columns</p>\n",
       "</div>"
      ],
      "text/plain": [
       "      Order ID                     Product Quantity Ordered Price Each  \\\n",
       "0       236670            Wired Headphones                2      11.99   \n",
       "1       236671  Bose SoundSport Headphones                1      99.99   \n",
       "2       236672                      iPhone                1      700.0   \n",
       "3       236673       AA Batteries (4-pack)                2       3.84   \n",
       "4       236674       AA Batteries (4-pack)                2       3.84   \n",
       "...        ...                         ...              ...        ...   \n",
       "25112   319666    Lightning Charging Cable                1      14.95   \n",
       "25113   319667       AA Batteries (4-pack)                2       3.84   \n",
       "25114   319668             Vareebadd Phone                1        400   \n",
       "25115   319669            Wired Headphones                1      11.99   \n",
       "25116   319670  Bose SoundSport Headphones                1      99.99   \n",
       "\n",
       "           Order Date                        Purchase Address month  \n",
       "0      08/31/19 22:21        359 Spruce St, Seattle, WA 98101    08  \n",
       "1      08/15/19 15:11          492 Ridge St, Dallas, TX 75001    08  \n",
       "2      08/06/19 14:40          149 7th St, Portland, OR 97035    08  \n",
       "3      08/29/19 20:59       631 2nd St, Los Angeles, CA 90001    08  \n",
       "4      08/15/19 19:53    736 14th St, New York City, NY 10001    08  \n",
       "...               ...                                     ...   ...  \n",
       "25112  12/11/19 20:58  14 Madison St, San Francisco, CA 94016    12  \n",
       "25113  12/01/19 12:01    549 Willow St, Los Angeles, CA 90001    12  \n",
       "25114  12/09/19 06:43        273 Wilson St, Seattle, WA 98101    12  \n",
       "25115  12/03/19 10:39          778 River St, Dallas, TX 75001    12  \n",
       "25116  12/21/19 21:45  747 Chestnut St, Los Angeles, CA 90001    12  \n",
       "\n",
       "[186305 rows x 7 columns]"
      ]
     },
     "execution_count": 11,
     "metadata": {},
     "output_type": "execute_result"
    }
   ],
   "source": [
    "sales_all"
   ]
  },
  {
   "cell_type": "code",
   "execution_count": 12,
   "id": "94bd6612",
   "metadata": {
    "execution": {
     "iopub.execute_input": "2023-02-22T10:29:13.843092Z",
     "iopub.status.busy": "2023-02-22T10:29:13.841559Z",
     "iopub.status.idle": "2023-02-22T10:29:13.850302Z",
     "shell.execute_reply": "2023-02-22T10:29:13.849074Z"
    },
    "papermill": {
     "duration": 0.024361,
     "end_time": "2023-02-22T10:29:13.852972",
     "exception": false,
     "start_time": "2023-02-22T10:29:13.828611",
     "status": "completed"
    },
    "tags": []
   },
   "outputs": [
    {
     "data": {
      "text/plain": [
       "dtype('O')"
      ]
     },
     "execution_count": 12,
     "metadata": {},
     "output_type": "execute_result"
    }
   ],
   "source": [
    "sales_all['month'].dtypes"
   ]
  },
  {
   "cell_type": "code",
   "execution_count": 13,
   "id": "b1bcb8fb",
   "metadata": {
    "execution": {
     "iopub.execute_input": "2023-02-22T10:29:13.880117Z",
     "iopub.status.busy": "2023-02-22T10:29:13.879661Z",
     "iopub.status.idle": "2023-02-22T10:29:13.907532Z",
     "shell.execute_reply": "2023-02-22T10:29:13.906489Z"
    },
    "papermill": {
     "duration": 0.043942,
     "end_time": "2023-02-22T10:29:13.909946",
     "exception": false,
     "start_time": "2023-02-22T10:29:13.866004",
     "status": "completed"
    },
    "tags": []
   },
   "outputs": [
    {
     "data": {
      "text/plain": [
       "array(['08', 'Order Date', '09', '05', '06', '02', '03', '11', '12', '01',\n",
       "       '04', '10', '07'], dtype=object)"
      ]
     },
     "execution_count": 13,
     "metadata": {},
     "output_type": "execute_result"
    }
   ],
   "source": [
    "sales_all['month'].unique()"
   ]
  },
  {
   "cell_type": "code",
   "execution_count": 14,
   "id": "47e56881",
   "metadata": {
    "execution": {
     "iopub.execute_input": "2023-02-22T10:29:13.936448Z",
     "iopub.status.busy": "2023-02-22T10:29:13.935998Z",
     "iopub.status.idle": "2023-02-22T10:29:14.074471Z",
     "shell.execute_reply": "2023-02-22T10:29:14.073353Z"
    },
    "papermill": {
     "duration": 0.154477,
     "end_time": "2023-02-22T10:29:14.076913",
     "exception": false,
     "start_time": "2023-02-22T10:29:13.922436",
     "status": "completed"
    },
    "tags": []
   },
   "outputs": [
    {
     "data": {
      "text/html": [
       "<div>\n",
       "<style scoped>\n",
       "    .dataframe tbody tr th:only-of-type {\n",
       "        vertical-align: middle;\n",
       "    }\n",
       "\n",
       "    .dataframe tbody tr th {\n",
       "        vertical-align: top;\n",
       "    }\n",
       "\n",
       "    .dataframe thead th {\n",
       "        text-align: right;\n",
       "    }\n",
       "</style>\n",
       "<table border=\"1\" class=\"dataframe\">\n",
       "  <thead>\n",
       "    <tr style=\"text-align: right;\">\n",
       "      <th></th>\n",
       "      <th>Order ID</th>\n",
       "      <th>Product</th>\n",
       "      <th>Quantity Ordered</th>\n",
       "      <th>Price Each</th>\n",
       "      <th>Order Date</th>\n",
       "      <th>Purchase Address</th>\n",
       "      <th>month</th>\n",
       "    </tr>\n",
       "  </thead>\n",
       "  <tbody>\n",
       "    <tr>\n",
       "      <th>0</th>\n",
       "      <td>236670</td>\n",
       "      <td>Wired Headphones</td>\n",
       "      <td>2</td>\n",
       "      <td>11.99</td>\n",
       "      <td>08/31/19 22:21</td>\n",
       "      <td>359 Spruce St, Seattle, WA 98101</td>\n",
       "      <td>08</td>\n",
       "    </tr>\n",
       "    <tr>\n",
       "      <th>1</th>\n",
       "      <td>236671</td>\n",
       "      <td>Bose SoundSport Headphones</td>\n",
       "      <td>1</td>\n",
       "      <td>99.99</td>\n",
       "      <td>08/15/19 15:11</td>\n",
       "      <td>492 Ridge St, Dallas, TX 75001</td>\n",
       "      <td>08</td>\n",
       "    </tr>\n",
       "    <tr>\n",
       "      <th>2</th>\n",
       "      <td>236672</td>\n",
       "      <td>iPhone</td>\n",
       "      <td>1</td>\n",
       "      <td>700.0</td>\n",
       "      <td>08/06/19 14:40</td>\n",
       "      <td>149 7th St, Portland, OR 97035</td>\n",
       "      <td>08</td>\n",
       "    </tr>\n",
       "    <tr>\n",
       "      <th>3</th>\n",
       "      <td>236673</td>\n",
       "      <td>AA Batteries (4-pack)</td>\n",
       "      <td>2</td>\n",
       "      <td>3.84</td>\n",
       "      <td>08/29/19 20:59</td>\n",
       "      <td>631 2nd St, Los Angeles, CA 90001</td>\n",
       "      <td>08</td>\n",
       "    </tr>\n",
       "    <tr>\n",
       "      <th>4</th>\n",
       "      <td>236674</td>\n",
       "      <td>AA Batteries (4-pack)</td>\n",
       "      <td>2</td>\n",
       "      <td>3.84</td>\n",
       "      <td>08/15/19 19:53</td>\n",
       "      <td>736 14th St, New York City, NY 10001</td>\n",
       "      <td>08</td>\n",
       "    </tr>\n",
       "    <tr>\n",
       "      <th>...</th>\n",
       "      <td>...</td>\n",
       "      <td>...</td>\n",
       "      <td>...</td>\n",
       "      <td>...</td>\n",
       "      <td>...</td>\n",
       "      <td>...</td>\n",
       "      <td>...</td>\n",
       "    </tr>\n",
       "    <tr>\n",
       "      <th>25112</th>\n",
       "      <td>319666</td>\n",
       "      <td>Lightning Charging Cable</td>\n",
       "      <td>1</td>\n",
       "      <td>14.95</td>\n",
       "      <td>12/11/19 20:58</td>\n",
       "      <td>14 Madison St, San Francisco, CA 94016</td>\n",
       "      <td>12</td>\n",
       "    </tr>\n",
       "    <tr>\n",
       "      <th>25113</th>\n",
       "      <td>319667</td>\n",
       "      <td>AA Batteries (4-pack)</td>\n",
       "      <td>2</td>\n",
       "      <td>3.84</td>\n",
       "      <td>12/01/19 12:01</td>\n",
       "      <td>549 Willow St, Los Angeles, CA 90001</td>\n",
       "      <td>12</td>\n",
       "    </tr>\n",
       "    <tr>\n",
       "      <th>25114</th>\n",
       "      <td>319668</td>\n",
       "      <td>Vareebadd Phone</td>\n",
       "      <td>1</td>\n",
       "      <td>400</td>\n",
       "      <td>12/09/19 06:43</td>\n",
       "      <td>273 Wilson St, Seattle, WA 98101</td>\n",
       "      <td>12</td>\n",
       "    </tr>\n",
       "    <tr>\n",
       "      <th>25115</th>\n",
       "      <td>319669</td>\n",
       "      <td>Wired Headphones</td>\n",
       "      <td>1</td>\n",
       "      <td>11.99</td>\n",
       "      <td>12/03/19 10:39</td>\n",
       "      <td>778 River St, Dallas, TX 75001</td>\n",
       "      <td>12</td>\n",
       "    </tr>\n",
       "    <tr>\n",
       "      <th>25116</th>\n",
       "      <td>319670</td>\n",
       "      <td>Bose SoundSport Headphones</td>\n",
       "      <td>1</td>\n",
       "      <td>99.99</td>\n",
       "      <td>12/21/19 21:45</td>\n",
       "      <td>747 Chestnut St, Los Angeles, CA 90001</td>\n",
       "      <td>12</td>\n",
       "    </tr>\n",
       "  </tbody>\n",
       "</table>\n",
       "<p>185950 rows × 7 columns</p>\n",
       "</div>"
      ],
      "text/plain": [
       "      Order ID                     Product Quantity Ordered Price Each  \\\n",
       "0       236670            Wired Headphones                2      11.99   \n",
       "1       236671  Bose SoundSport Headphones                1      99.99   \n",
       "2       236672                      iPhone                1      700.0   \n",
       "3       236673       AA Batteries (4-pack)                2       3.84   \n",
       "4       236674       AA Batteries (4-pack)                2       3.84   \n",
       "...        ...                         ...              ...        ...   \n",
       "25112   319666    Lightning Charging Cable                1      14.95   \n",
       "25113   319667       AA Batteries (4-pack)                2       3.84   \n",
       "25114   319668             Vareebadd Phone                1        400   \n",
       "25115   319669            Wired Headphones                1      11.99   \n",
       "25116   319670  Bose SoundSport Headphones                1      99.99   \n",
       "\n",
       "           Order Date                        Purchase Address month  \n",
       "0      08/31/19 22:21        359 Spruce St, Seattle, WA 98101    08  \n",
       "1      08/15/19 15:11          492 Ridge St, Dallas, TX 75001    08  \n",
       "2      08/06/19 14:40          149 7th St, Portland, OR 97035    08  \n",
       "3      08/29/19 20:59       631 2nd St, Los Angeles, CA 90001    08  \n",
       "4      08/15/19 19:53    736 14th St, New York City, NY 10001    08  \n",
       "...               ...                                     ...   ...  \n",
       "25112  12/11/19 20:58  14 Madison St, San Francisco, CA 94016    12  \n",
       "25113  12/01/19 12:01    549 Willow St, Los Angeles, CA 90001    12  \n",
       "25114  12/09/19 06:43        273 Wilson St, Seattle, WA 98101    12  \n",
       "25115  12/03/19 10:39          778 River St, Dallas, TX 75001    12  \n",
       "25116  12/21/19 21:45  747 Chestnut St, Los Angeles, CA 90001    12  \n",
       "\n",
       "[185950 rows x 7 columns]"
      ]
     },
     "execution_count": 14,
     "metadata": {},
     "output_type": "execute_result"
    }
   ],
   "source": [
    "sales_all=sales_all.loc[sales_all['month']!='Order Date',:]\n",
    "sales_all"
   ]
  },
  {
   "cell_type": "code",
   "execution_count": 15,
   "id": "c73fbcfb",
   "metadata": {
    "execution": {
     "iopub.execute_input": "2023-02-22T10:29:14.103842Z",
     "iopub.status.busy": "2023-02-22T10:29:14.103406Z",
     "iopub.status.idle": "2023-02-22T10:29:14.164171Z",
     "shell.execute_reply": "2023-02-22T10:29:14.163027Z"
    },
    "papermill": {
     "duration": 0.07809,
     "end_time": "2023-02-22T10:29:14.167326",
     "exception": false,
     "start_time": "2023-02-22T10:29:14.089236",
     "status": "completed"
    },
    "tags": []
   },
   "outputs": [
    {
     "name": "stderr",
     "output_type": "stream",
     "text": [
      "/opt/conda/lib/python3.7/site-packages/ipykernel_launcher.py:1: SettingWithCopyWarning: \n",
      "A value is trying to be set on a copy of a slice from a DataFrame.\n",
      "Try using .loc[row_indexer,col_indexer] = value instead\n",
      "\n",
      "See the caveats in the documentation: https://pandas.pydata.org/pandas-docs/stable/user_guide/indexing.html#returning-a-view-versus-a-copy\n",
      "  \"\"\"Entry point for launching an IPython kernel.\n"
     ]
    }
   ],
   "source": [
    "sales_all['month']=sales_all['month'].astype(int)\n"
   ]
  },
  {
   "cell_type": "code",
   "execution_count": 16,
   "id": "9807d5a5",
   "metadata": {
    "execution": {
     "iopub.execute_input": "2023-02-22T10:29:14.193837Z",
     "iopub.status.busy": "2023-02-22T10:29:14.193414Z",
     "iopub.status.idle": "2023-02-22T10:29:14.231006Z",
     "shell.execute_reply": "2023-02-22T10:29:14.229838Z"
    },
    "papermill": {
     "duration": 0.054089,
     "end_time": "2023-02-22T10:29:14.233942",
     "exception": false,
     "start_time": "2023-02-22T10:29:14.179853",
     "status": "completed"
    },
    "tags": []
   },
   "outputs": [
    {
     "name": "stderr",
     "output_type": "stream",
     "text": [
      "/opt/conda/lib/python3.7/site-packages/ipykernel_launcher.py:1: SettingWithCopyWarning: \n",
      "A value is trying to be set on a copy of a slice from a DataFrame.\n",
      "Try using .loc[row_indexer,col_indexer] = value instead\n",
      "\n",
      "See the caveats in the documentation: https://pandas.pydata.org/pandas-docs/stable/user_guide/indexing.html#returning-a-view-versus-a-copy\n",
      "  \"\"\"Entry point for launching an IPython kernel.\n"
     ]
    }
   ],
   "source": [
    "\n",
    "sales_all['Quantity Ordered']=sales_all['Quantity Ordered'].astype(int)"
   ]
  },
  {
   "cell_type": "code",
   "execution_count": 17,
   "id": "32b3a5aa",
   "metadata": {
    "execution": {
     "iopub.execute_input": "2023-02-22T10:29:14.261160Z",
     "iopub.status.busy": "2023-02-22T10:29:14.260683Z",
     "iopub.status.idle": "2023-02-22T10:29:14.299582Z",
     "shell.execute_reply": "2023-02-22T10:29:14.298390Z"
    },
    "papermill": {
     "duration": 0.055738,
     "end_time": "2023-02-22T10:29:14.302594",
     "exception": false,
     "start_time": "2023-02-22T10:29:14.246856",
     "status": "completed"
    },
    "tags": []
   },
   "outputs": [
    {
     "name": "stderr",
     "output_type": "stream",
     "text": [
      "/opt/conda/lib/python3.7/site-packages/ipykernel_launcher.py:1: SettingWithCopyWarning: \n",
      "A value is trying to be set on a copy of a slice from a DataFrame.\n",
      "Try using .loc[row_indexer,col_indexer] = value instead\n",
      "\n",
      "See the caveats in the documentation: https://pandas.pydata.org/pandas-docs/stable/user_guide/indexing.html#returning-a-view-versus-a-copy\n",
      "  \"\"\"Entry point for launching an IPython kernel.\n"
     ]
    }
   ],
   "source": [
    "sales_all['Price Each']=sales_all['Price Each'].astype(float)"
   ]
  },
  {
   "cell_type": "code",
   "execution_count": 18,
   "id": "bbbcf4a0",
   "metadata": {
    "execution": {
     "iopub.execute_input": "2023-02-22T10:29:14.329238Z",
     "iopub.status.busy": "2023-02-22T10:29:14.328497Z",
     "iopub.status.idle": "2023-02-22T10:29:14.337957Z",
     "shell.execute_reply": "2023-02-22T10:29:14.336519Z"
    },
    "papermill": {
     "duration": 0.025439,
     "end_time": "2023-02-22T10:29:14.340444",
     "exception": false,
     "start_time": "2023-02-22T10:29:14.315005",
     "status": "completed"
    },
    "tags": []
   },
   "outputs": [
    {
     "data": {
      "text/plain": [
       "Order ID             object\n",
       "Product              object\n",
       "Quantity Ordered      int64\n",
       "Price Each          float64\n",
       "Order Date           object\n",
       "Purchase Address     object\n",
       "month                 int64\n",
       "dtype: object"
      ]
     },
     "execution_count": 18,
     "metadata": {},
     "output_type": "execute_result"
    }
   ],
   "source": [
    "sales_all.dtypes"
   ]
  },
  {
   "cell_type": "code",
   "execution_count": 19,
   "id": "2ae09fc3",
   "metadata": {
    "execution": {
     "iopub.execute_input": "2023-02-22T10:29:14.367939Z",
     "iopub.status.busy": "2023-02-22T10:29:14.367470Z",
     "iopub.status.idle": "2023-02-22T10:29:14.376206Z",
     "shell.execute_reply": "2023-02-22T10:29:14.374699Z"
    },
    "papermill": {
     "duration": 0.025915,
     "end_time": "2023-02-22T10:29:14.379331",
     "exception": false,
     "start_time": "2023-02-22T10:29:14.353416",
     "status": "completed"
    },
    "tags": []
   },
   "outputs": [
    {
     "name": "stderr",
     "output_type": "stream",
     "text": [
      "/opt/conda/lib/python3.7/site-packages/ipykernel_launcher.py:1: SettingWithCopyWarning: \n",
      "A value is trying to be set on a copy of a slice from a DataFrame.\n",
      "Try using .loc[row_indexer,col_indexer] = value instead\n",
      "\n",
      "See the caveats in the documentation: https://pandas.pydata.org/pandas-docs/stable/user_guide/indexing.html#returning-a-view-versus-a-copy\n",
      "  \"\"\"Entry point for launching an IPython kernel.\n"
     ]
    }
   ],
   "source": [
    "sales_all['sales']=sales_all['Quantity Ordered']*sales_all['Price Each']"
   ]
  },
  {
   "cell_type": "code",
   "execution_count": 20,
   "id": "a15dbdf8",
   "metadata": {
    "execution": {
     "iopub.execute_input": "2023-02-22T10:29:14.406219Z",
     "iopub.status.busy": "2023-02-22T10:29:14.405756Z",
     "iopub.status.idle": "2023-02-22T10:29:14.428161Z",
     "shell.execute_reply": "2023-02-22T10:29:14.426950Z"
    },
    "papermill": {
     "duration": 0.038782,
     "end_time": "2023-02-22T10:29:14.430564",
     "exception": false,
     "start_time": "2023-02-22T10:29:14.391782",
     "status": "completed"
    },
    "tags": []
   },
   "outputs": [
    {
     "data": {
      "text/html": [
       "<div>\n",
       "<style scoped>\n",
       "    .dataframe tbody tr th:only-of-type {\n",
       "        vertical-align: middle;\n",
       "    }\n",
       "\n",
       "    .dataframe tbody tr th {\n",
       "        vertical-align: top;\n",
       "    }\n",
       "\n",
       "    .dataframe thead th {\n",
       "        text-align: right;\n",
       "    }\n",
       "</style>\n",
       "<table border=\"1\" class=\"dataframe\">\n",
       "  <thead>\n",
       "    <tr style=\"text-align: right;\">\n",
       "      <th></th>\n",
       "      <th>Order ID</th>\n",
       "      <th>Product</th>\n",
       "      <th>Quantity Ordered</th>\n",
       "      <th>Price Each</th>\n",
       "      <th>Order Date</th>\n",
       "      <th>Purchase Address</th>\n",
       "      <th>month</th>\n",
       "      <th>sales</th>\n",
       "    </tr>\n",
       "  </thead>\n",
       "  <tbody>\n",
       "    <tr>\n",
       "      <th>0</th>\n",
       "      <td>236670</td>\n",
       "      <td>Wired Headphones</td>\n",
       "      <td>2</td>\n",
       "      <td>11.99</td>\n",
       "      <td>08/31/19 22:21</td>\n",
       "      <td>359 Spruce St, Seattle, WA 98101</td>\n",
       "      <td>8</td>\n",
       "      <td>23.98</td>\n",
       "    </tr>\n",
       "    <tr>\n",
       "      <th>1</th>\n",
       "      <td>236671</td>\n",
       "      <td>Bose SoundSport Headphones</td>\n",
       "      <td>1</td>\n",
       "      <td>99.99</td>\n",
       "      <td>08/15/19 15:11</td>\n",
       "      <td>492 Ridge St, Dallas, TX 75001</td>\n",
       "      <td>8</td>\n",
       "      <td>99.99</td>\n",
       "    </tr>\n",
       "    <tr>\n",
       "      <th>2</th>\n",
       "      <td>236672</td>\n",
       "      <td>iPhone</td>\n",
       "      <td>1</td>\n",
       "      <td>700.00</td>\n",
       "      <td>08/06/19 14:40</td>\n",
       "      <td>149 7th St, Portland, OR 97035</td>\n",
       "      <td>8</td>\n",
       "      <td>700.00</td>\n",
       "    </tr>\n",
       "    <tr>\n",
       "      <th>3</th>\n",
       "      <td>236673</td>\n",
       "      <td>AA Batteries (4-pack)</td>\n",
       "      <td>2</td>\n",
       "      <td>3.84</td>\n",
       "      <td>08/29/19 20:59</td>\n",
       "      <td>631 2nd St, Los Angeles, CA 90001</td>\n",
       "      <td>8</td>\n",
       "      <td>7.68</td>\n",
       "    </tr>\n",
       "    <tr>\n",
       "      <th>4</th>\n",
       "      <td>236674</td>\n",
       "      <td>AA Batteries (4-pack)</td>\n",
       "      <td>2</td>\n",
       "      <td>3.84</td>\n",
       "      <td>08/15/19 19:53</td>\n",
       "      <td>736 14th St, New York City, NY 10001</td>\n",
       "      <td>8</td>\n",
       "      <td>7.68</td>\n",
       "    </tr>\n",
       "    <tr>\n",
       "      <th>...</th>\n",
       "      <td>...</td>\n",
       "      <td>...</td>\n",
       "      <td>...</td>\n",
       "      <td>...</td>\n",
       "      <td>...</td>\n",
       "      <td>...</td>\n",
       "      <td>...</td>\n",
       "      <td>...</td>\n",
       "    </tr>\n",
       "    <tr>\n",
       "      <th>25112</th>\n",
       "      <td>319666</td>\n",
       "      <td>Lightning Charging Cable</td>\n",
       "      <td>1</td>\n",
       "      <td>14.95</td>\n",
       "      <td>12/11/19 20:58</td>\n",
       "      <td>14 Madison St, San Francisco, CA 94016</td>\n",
       "      <td>12</td>\n",
       "      <td>14.95</td>\n",
       "    </tr>\n",
       "    <tr>\n",
       "      <th>25113</th>\n",
       "      <td>319667</td>\n",
       "      <td>AA Batteries (4-pack)</td>\n",
       "      <td>2</td>\n",
       "      <td>3.84</td>\n",
       "      <td>12/01/19 12:01</td>\n",
       "      <td>549 Willow St, Los Angeles, CA 90001</td>\n",
       "      <td>12</td>\n",
       "      <td>7.68</td>\n",
       "    </tr>\n",
       "    <tr>\n",
       "      <th>25114</th>\n",
       "      <td>319668</td>\n",
       "      <td>Vareebadd Phone</td>\n",
       "      <td>1</td>\n",
       "      <td>400.00</td>\n",
       "      <td>12/09/19 06:43</td>\n",
       "      <td>273 Wilson St, Seattle, WA 98101</td>\n",
       "      <td>12</td>\n",
       "      <td>400.00</td>\n",
       "    </tr>\n",
       "    <tr>\n",
       "      <th>25115</th>\n",
       "      <td>319669</td>\n",
       "      <td>Wired Headphones</td>\n",
       "      <td>1</td>\n",
       "      <td>11.99</td>\n",
       "      <td>12/03/19 10:39</td>\n",
       "      <td>778 River St, Dallas, TX 75001</td>\n",
       "      <td>12</td>\n",
       "      <td>11.99</td>\n",
       "    </tr>\n",
       "    <tr>\n",
       "      <th>25116</th>\n",
       "      <td>319670</td>\n",
       "      <td>Bose SoundSport Headphones</td>\n",
       "      <td>1</td>\n",
       "      <td>99.99</td>\n",
       "      <td>12/21/19 21:45</td>\n",
       "      <td>747 Chestnut St, Los Angeles, CA 90001</td>\n",
       "      <td>12</td>\n",
       "      <td>99.99</td>\n",
       "    </tr>\n",
       "  </tbody>\n",
       "</table>\n",
       "<p>185950 rows × 8 columns</p>\n",
       "</div>"
      ],
      "text/plain": [
       "      Order ID                     Product  Quantity Ordered  Price Each  \\\n",
       "0       236670            Wired Headphones                 2       11.99   \n",
       "1       236671  Bose SoundSport Headphones                 1       99.99   \n",
       "2       236672                      iPhone                 1      700.00   \n",
       "3       236673       AA Batteries (4-pack)                 2        3.84   \n",
       "4       236674       AA Batteries (4-pack)                 2        3.84   \n",
       "...        ...                         ...               ...         ...   \n",
       "25112   319666    Lightning Charging Cable                 1       14.95   \n",
       "25113   319667       AA Batteries (4-pack)                 2        3.84   \n",
       "25114   319668             Vareebadd Phone                 1      400.00   \n",
       "25115   319669            Wired Headphones                 1       11.99   \n",
       "25116   319670  Bose SoundSport Headphones                 1       99.99   \n",
       "\n",
       "           Order Date                        Purchase Address  month   sales  \n",
       "0      08/31/19 22:21        359 Spruce St, Seattle, WA 98101      8   23.98  \n",
       "1      08/15/19 15:11          492 Ridge St, Dallas, TX 75001      8   99.99  \n",
       "2      08/06/19 14:40          149 7th St, Portland, OR 97035      8  700.00  \n",
       "3      08/29/19 20:59       631 2nd St, Los Angeles, CA 90001      8    7.68  \n",
       "4      08/15/19 19:53    736 14th St, New York City, NY 10001      8    7.68  \n",
       "...               ...                                     ...    ...     ...  \n",
       "25112  12/11/19 20:58  14 Madison St, San Francisco, CA 94016     12   14.95  \n",
       "25113  12/01/19 12:01    549 Willow St, Los Angeles, CA 90001     12    7.68  \n",
       "25114  12/09/19 06:43        273 Wilson St, Seattle, WA 98101     12  400.00  \n",
       "25115  12/03/19 10:39          778 River St, Dallas, TX 75001     12   11.99  \n",
       "25116  12/21/19 21:45  747 Chestnut St, Los Angeles, CA 90001     12   99.99  \n",
       "\n",
       "[185950 rows x 8 columns]"
      ]
     },
     "execution_count": 20,
     "metadata": {},
     "output_type": "execute_result"
    }
   ],
   "source": [
    "sales_all"
   ]
  },
  {
   "cell_type": "code",
   "execution_count": 21,
   "id": "1777df94",
   "metadata": {
    "execution": {
     "iopub.execute_input": "2023-02-22T10:29:14.458521Z",
     "iopub.status.busy": "2023-02-22T10:29:14.457853Z",
     "iopub.status.idle": "2023-02-22T10:29:14.477978Z",
     "shell.execute_reply": "2023-02-22T10:29:14.476707Z"
    },
    "papermill": {
     "duration": 0.036952,
     "end_time": "2023-02-22T10:29:14.480535",
     "exception": false,
     "start_time": "2023-02-22T10:29:14.443583",
     "status": "completed"
    },
    "tags": []
   },
   "outputs": [
    {
     "data": {
      "text/html": [
       "<div>\n",
       "<style scoped>\n",
       "    .dataframe tbody tr th:only-of-type {\n",
       "        vertical-align: middle;\n",
       "    }\n",
       "\n",
       "    .dataframe tbody tr th {\n",
       "        vertical-align: top;\n",
       "    }\n",
       "\n",
       "    .dataframe thead th {\n",
       "        text-align: right;\n",
       "    }\n",
       "</style>\n",
       "<table border=\"1\" class=\"dataframe\">\n",
       "  <thead>\n",
       "    <tr style=\"text-align: right;\">\n",
       "      <th></th>\n",
       "      <th>sales</th>\n",
       "    </tr>\n",
       "    <tr>\n",
       "      <th>month</th>\n",
       "      <th></th>\n",
       "    </tr>\n",
       "  </thead>\n",
       "  <tbody>\n",
       "    <tr>\n",
       "      <th>1</th>\n",
       "      <td>1822256.73</td>\n",
       "    </tr>\n",
       "    <tr>\n",
       "      <th>2</th>\n",
       "      <td>2202022.42</td>\n",
       "    </tr>\n",
       "    <tr>\n",
       "      <th>3</th>\n",
       "      <td>2807100.38</td>\n",
       "    </tr>\n",
       "    <tr>\n",
       "      <th>4</th>\n",
       "      <td>3390670.24</td>\n",
       "    </tr>\n",
       "    <tr>\n",
       "      <th>5</th>\n",
       "      <td>3152606.75</td>\n",
       "    </tr>\n",
       "    <tr>\n",
       "      <th>6</th>\n",
       "      <td>2577802.26</td>\n",
       "    </tr>\n",
       "    <tr>\n",
       "      <th>7</th>\n",
       "      <td>2647775.76</td>\n",
       "    </tr>\n",
       "    <tr>\n",
       "      <th>8</th>\n",
       "      <td>2244467.88</td>\n",
       "    </tr>\n",
       "    <tr>\n",
       "      <th>9</th>\n",
       "      <td>2097560.13</td>\n",
       "    </tr>\n",
       "    <tr>\n",
       "      <th>10</th>\n",
       "      <td>3736726.88</td>\n",
       "    </tr>\n",
       "    <tr>\n",
       "      <th>11</th>\n",
       "      <td>3199603.20</td>\n",
       "    </tr>\n",
       "    <tr>\n",
       "      <th>12</th>\n",
       "      <td>4613443.34</td>\n",
       "    </tr>\n",
       "  </tbody>\n",
       "</table>\n",
       "</div>"
      ],
      "text/plain": [
       "            sales\n",
       "month            \n",
       "1      1822256.73\n",
       "2      2202022.42\n",
       "3      2807100.38\n",
       "4      3390670.24\n",
       "5      3152606.75\n",
       "6      2577802.26\n",
       "7      2647775.76\n",
       "8      2244467.88\n",
       "9      2097560.13\n",
       "10     3736726.88\n",
       "11     3199603.20\n",
       "12     4613443.34"
      ]
     },
     "execution_count": 21,
     "metadata": {},
     "output_type": "execute_result"
    }
   ],
   "source": [
    "monthly_sales=sales_all.groupby('month')['sales'].sum()\n",
    "monthly_sales=pd.DataFrame(monthly_sales)\n",
    "monthly_sales"
   ]
  },
  {
   "cell_type": "code",
   "execution_count": 22,
   "id": "d81b335f",
   "metadata": {
    "execution": {
     "iopub.execute_input": "2023-02-22T10:29:14.510681Z",
     "iopub.status.busy": "2023-02-22T10:29:14.510213Z",
     "iopub.status.idle": "2023-02-22T10:29:14.728841Z",
     "shell.execute_reply": "2023-02-22T10:29:14.727515Z"
    },
    "papermill": {
     "duration": 0.236815,
     "end_time": "2023-02-22T10:29:14.731913",
     "exception": false,
     "start_time": "2023-02-22T10:29:14.495098",
     "status": "completed"
    },
    "tags": []
   },
   "outputs": [
    {
     "data": {
      "image/png": "[encoded data removed]",
      "text/plain": [
       "<Figure size 432x288 with 1 Axes>"
      ]
     },
     "metadata": {
      "needs_background": "light"
     },
     "output_type": "display_data"
    }
   ],
   "source": [
    "plt.bar(monthly_sales.index,monthly_sales['sales'])\n",
    "plt.title('Monthly sales');"
   ]
  },
  {
   "cell_type": "markdown",
   "id": "6ec0888b",
   "metadata": {
    "papermill": {
     "duration": 0.012941,
     "end_time": "2023-02-22T10:29:14.758284",
     "exception": false,
     "start_time": "2023-02-22T10:29:14.745343",
     "status": "completed"
    },
    "tags": []
   },
   "source": [
    "# Which city has maximum order"
   ]
  },
  {
   "cell_type": "code",
   "execution_count": 23,
   "id": "6ecd6ac6",
   "metadata": {
    "execution": {
     "iopub.execute_input": "2023-02-22T10:29:14.787158Z",
     "iopub.status.busy": "2023-02-22T10:29:14.785830Z",
     "iopub.status.idle": "2023-02-22T10:29:14.791529Z",
     "shell.execute_reply": "2023-02-22T10:29:14.790325Z"
    },
    "papermill": {
     "duration": 0.022802,
     "end_time": "2023-02-22T10:29:14.794172",
     "exception": false,
     "start_time": "2023-02-22T10:29:14.771370",
     "status": "completed"
    },
    "tags": []
   },
   "outputs": [],
   "source": [
    "def city(x):\n",
    "    return x.split(',')[1]"
   ]
  },
  {
   "cell_type": "code",
   "execution_count": 24,
   "id": "60f4164d",
   "metadata": {
    "execution": {
     "iopub.execute_input": "2023-02-22T10:29:14.822905Z",
     "iopub.status.busy": "2023-02-22T10:29:14.822398Z",
     "iopub.status.idle": "2023-02-22T10:29:14.934781Z",
     "shell.execute_reply": "2023-02-22T10:29:14.933160Z"
    },
    "papermill": {
     "duration": 0.130827,
     "end_time": "2023-02-22T10:29:14.938286",
     "exception": false,
     "start_time": "2023-02-22T10:29:14.807459",
     "status": "completed"
    },
    "tags": []
   },
   "outputs": [
    {
     "name": "stderr",
     "output_type": "stream",
     "text": [
      "/opt/conda/lib/python3.7/site-packages/ipykernel_launcher.py:1: SettingWithCopyWarning: \n",
      "A value is trying to be set on a copy of a slice from a DataFrame.\n",
      "Try using .loc[row_indexer,col_indexer] = value instead\n",
      "\n",
      "See the caveats in the documentation: https://pandas.pydata.org/pandas-docs/stable/user_guide/indexing.html#returning-a-view-versus-a-copy\n",
      "  \"\"\"Entry point for launching an IPython kernel.\n"
     ]
    }
   ],
   "source": [
    "sales_all['city']=sales_all['Purchase Address'].apply(city)"
   ]
  },
  {
   "cell_type": "code",
   "execution_count": 25,
   "id": "4c7daf0d",
   "metadata": {
    "execution": {
     "iopub.execute_input": "2023-02-22T10:29:14.967318Z",
     "iopub.status.busy": "2023-02-22T10:29:14.966915Z",
     "iopub.status.idle": "2023-02-22T10:29:14.988510Z",
     "shell.execute_reply": "2023-02-22T10:29:14.987531Z"
    },
    "papermill": {
     "duration": 0.038475,
     "end_time": "2023-02-22T10:29:14.990649",
     "exception": false,
     "start_time": "2023-02-22T10:29:14.952174",
     "status": "completed"
    },
    "tags": []
   },
   "outputs": [
    {
     "data": {
      "text/html": [
       "<div>\n",
       "<style scoped>\n",
       "    .dataframe tbody tr th:only-of-type {\n",
       "        vertical-align: middle;\n",
       "    }\n",
       "\n",
       "    .dataframe tbody tr th {\n",
       "        vertical-align: top;\n",
       "    }\n",
       "\n",
       "    .dataframe thead th {\n",
       "        text-align: right;\n",
       "    }\n",
       "</style>\n",
       "<table border=\"1\" class=\"dataframe\">\n",
       "  <thead>\n",
       "    <tr style=\"text-align: right;\">\n",
       "      <th></th>\n",
       "      <th>Order ID</th>\n",
       "      <th>Product</th>\n",
       "      <th>Quantity Ordered</th>\n",
       "      <th>Price Each</th>\n",
       "      <th>Order Date</th>\n",
       "      <th>Purchase Address</th>\n",
       "      <th>month</th>\n",
       "      <th>sales</th>\n",
       "      <th>city</th>\n",
       "    </tr>\n",
       "  </thead>\n",
       "  <tbody>\n",
       "    <tr>\n",
       "      <th>0</th>\n",
       "      <td>236670</td>\n",
       "      <td>Wired Headphones</td>\n",
       "      <td>2</td>\n",
       "      <td>11.99</td>\n",
       "      <td>08/31/19 22:21</td>\n",
       "      <td>359 Spruce St, Seattle, WA 98101</td>\n",
       "      <td>8</td>\n",
       "      <td>23.98</td>\n",
       "      <td>Seattle</td>\n",
       "    </tr>\n",
       "    <tr>\n",
       "      <th>1</th>\n",
       "      <td>236671</td>\n",
       "      <td>Bose SoundSport Headphones</td>\n",
       "      <td>1</td>\n",
       "      <td>99.99</td>\n",
       "      <td>08/15/19 15:11</td>\n",
       "      <td>492 Ridge St, Dallas, TX 75001</td>\n",
       "      <td>8</td>\n",
       "      <td>99.99</td>\n",
       "      <td>Dallas</td>\n",
       "    </tr>\n",
       "    <tr>\n",
       "      <th>2</th>\n",
       "      <td>236672</td>\n",
       "      <td>iPhone</td>\n",
       "      <td>1</td>\n",
       "      <td>700.00</td>\n",
       "      <td>08/06/19 14:40</td>\n",
       "      <td>149 7th St, Portland, OR 97035</td>\n",
       "      <td>8</td>\n",
       "      <td>700.00</td>\n",
       "      <td>Portland</td>\n",
       "    </tr>\n",
       "    <tr>\n",
       "      <th>3</th>\n",
       "      <td>236673</td>\n",
       "      <td>AA Batteries (4-pack)</td>\n",
       "      <td>2</td>\n",
       "      <td>3.84</td>\n",
       "      <td>08/29/19 20:59</td>\n",
       "      <td>631 2nd St, Los Angeles, CA 90001</td>\n",
       "      <td>8</td>\n",
       "      <td>7.68</td>\n",
       "      <td>Los Angeles</td>\n",
       "    </tr>\n",
       "    <tr>\n",
       "      <th>4</th>\n",
       "      <td>236674</td>\n",
       "      <td>AA Batteries (4-pack)</td>\n",
       "      <td>2</td>\n",
       "      <td>3.84</td>\n",
       "      <td>08/15/19 19:53</td>\n",
       "      <td>736 14th St, New York City, NY 10001</td>\n",
       "      <td>8</td>\n",
       "      <td>7.68</td>\n",
       "      <td>New York City</td>\n",
       "    </tr>\n",
       "    <tr>\n",
       "      <th>...</th>\n",
       "      <td>...</td>\n",
       "      <td>...</td>\n",
       "      <td>...</td>\n",
       "      <td>...</td>\n",
       "      <td>...</td>\n",
       "      <td>...</td>\n",
       "      <td>...</td>\n",
       "      <td>...</td>\n",
       "      <td>...</td>\n",
       "    </tr>\n",
       "    <tr>\n",
       "      <th>25112</th>\n",
       "      <td>319666</td>\n",
       "      <td>Lightning Charging Cable</td>\n",
       "      <td>1</td>\n",
       "      <td>14.95</td>\n",
       "      <td>12/11/19 20:58</td>\n",
       "      <td>14 Madison St, San Francisco, CA 94016</td>\n",
       "      <td>12</td>\n",
       "      <td>14.95</td>\n",
       "      <td>San Francisco</td>\n",
       "    </tr>\n",
       "    <tr>\n",
       "      <th>25113</th>\n",
       "      <td>319667</td>\n",
       "      <td>AA Batteries (4-pack)</td>\n",
       "      <td>2</td>\n",
       "      <td>3.84</td>\n",
       "      <td>12/01/19 12:01</td>\n",
       "      <td>549 Willow St, Los Angeles, CA 90001</td>\n",
       "      <td>12</td>\n",
       "      <td>7.68</td>\n",
       "      <td>Los Angeles</td>\n",
       "    </tr>\n",
       "    <tr>\n",
       "      <th>25114</th>\n",
       "      <td>319668</td>\n",
       "      <td>Vareebadd Phone</td>\n",
       "      <td>1</td>\n",
       "      <td>400.00</td>\n",
       "      <td>12/09/19 06:43</td>\n",
       "      <td>273 Wilson St, Seattle, WA 98101</td>\n",
       "      <td>12</td>\n",
       "      <td>400.00</td>\n",
       "      <td>Seattle</td>\n",
       "    </tr>\n",
       "    <tr>\n",
       "      <th>25115</th>\n",
       "      <td>319669</td>\n",
       "      <td>Wired Headphones</td>\n",
       "      <td>1</td>\n",
       "      <td>11.99</td>\n",
       "      <td>12/03/19 10:39</td>\n",
       "      <td>778 River St, Dallas, TX 75001</td>\n",
       "      <td>12</td>\n",
       "      <td>11.99</td>\n",
       "      <td>Dallas</td>\n",
       "    </tr>\n",
       "    <tr>\n",
       "      <th>25116</th>\n",
       "      <td>319670</td>\n",
       "      <td>Bose SoundSport Headphones</td>\n",
       "      <td>1</td>\n",
       "      <td>99.99</td>\n",
       "      <td>12/21/19 21:45</td>\n",
       "      <td>747 Chestnut St, Los Angeles, CA 90001</td>\n",
       "      <td>12</td>\n",
       "      <td>99.99</td>\n",
       "      <td>Los Angeles</td>\n",
       "    </tr>\n",
       "  </tbody>\n",
       "</table>\n",
       "<p>185950 rows × 9 columns</p>\n",
       "</div>"
      ],
      "text/plain": [
       "      Order ID                     Product  Quantity Ordered  Price Each  \\\n",
       "0       236670            Wired Headphones                 2       11.99   \n",
       "1       236671  Bose SoundSport Headphones                 1       99.99   \n",
       "2       236672                      iPhone                 1      700.00   \n",
       "3       236673       AA Batteries (4-pack)                 2        3.84   \n",
       "4       236674       AA Batteries (4-pack)                 2        3.84   \n",
       "...        ...                         ...               ...         ...   \n",
       "25112   319666    Lightning Charging Cable                 1       14.95   \n",
       "25113   319667       AA Batteries (4-pack)                 2        3.84   \n",
       "25114   319668             Vareebadd Phone                 1      400.00   \n",
       "25115   319669            Wired Headphones                 1       11.99   \n",
       "25116   319670  Bose SoundSport Headphones                 1       99.99   \n",
       "\n",
       "           Order Date                        Purchase Address  month   sales  \\\n",
       "0      08/31/19 22:21        359 Spruce St, Seattle, WA 98101      8   23.98   \n",
       "1      08/15/19 15:11          492 Ridge St, Dallas, TX 75001      8   99.99   \n",
       "2      08/06/19 14:40          149 7th St, Portland, OR 97035      8  700.00   \n",
       "3      08/29/19 20:59       631 2nd St, Los Angeles, CA 90001      8    7.68   \n",
       "4      08/15/19 19:53    736 14th St, New York City, NY 10001      8    7.68   \n",
       "...               ...                                     ...    ...     ...   \n",
       "25112  12/11/19 20:58  14 Madison St, San Francisco, CA 94016     12   14.95   \n",
       "25113  12/01/19 12:01    549 Willow St, Los Angeles, CA 90001     12    7.68   \n",
       "25114  12/09/19 06:43        273 Wilson St, Seattle, WA 98101     12  400.00   \n",
       "25115  12/03/19 10:39          778 River St, Dallas, TX 75001     12   11.99   \n",
       "25116  12/21/19 21:45  747 Chestnut St, Los Angeles, CA 90001     12   99.99   \n",
       "\n",
       "                 city  \n",
       "0             Seattle  \n",
       "1              Dallas  \n",
       "2            Portland  \n",
       "3         Los Angeles  \n",
       "4       New York City  \n",
       "...               ...  \n",
       "25112   San Francisco  \n",
       "25113     Los Angeles  \n",
       "25114         Seattle  \n",
       "25115          Dallas  \n",
       "25116     Los Angeles  \n",
       "\n",
       "[185950 rows x 9 columns]"
      ]
     },
     "execution_count": 25,
     "metadata": {},
     "output_type": "execute_result"
    }
   ],
   "source": [
    "sales_all"
   ]
  },
  {
   "cell_type": "code",
   "execution_count": 26,
   "id": "d2e4e88e",
   "metadata": {
    "execution": {
     "iopub.execute_input": "2023-02-22T10:29:15.022480Z",
     "iopub.status.busy": "2023-02-22T10:29:15.020476Z",
     "iopub.status.idle": "2023-02-22T10:29:15.303054Z",
     "shell.execute_reply": "2023-02-22T10:29:15.302053Z"
    },
    "papermill": {
     "duration": 0.300893,
     "end_time": "2023-02-22T10:29:15.305532",
     "exception": false,
     "start_time": "2023-02-22T10:29:15.004639",
     "status": "completed"
    },
    "tags": []
   },
   "outputs": [
    {
     "data": {
      "text/plain": [
       "<AxesSubplot:xlabel='city'>"
      ]
     },
     "execution_count": 26,
     "metadata": {},
     "output_type": "execute_result"
    },
    {
     "data": {
      "image/png": "[encoded data removed]",
      "text/plain": [
       "<Figure size 432x288 with 1 Axes>"
      ]
     },
     "metadata": {
      "needs_background": "light"
     },
     "output_type": "display_data"
    }
   ],
   "source": [
    "sales_all.groupby('city')['city'].count().plot.bar()"
   ]
  },
  {
   "cell_type": "markdown",
   "id": "d519cc59",
   "metadata": {
    "papermill": {
     "duration": 0.014037,
     "end_time": "2023-02-22T10:29:15.334139",
     "exception": false,
     "start_time": "2023-02-22T10:29:15.320102",
     "status": "completed"
    },
    "tags": []
   },
   "source": [
    "# Time of maximum sales of Product"
   ]
  },
  {
   "cell_type": "code",
   "execution_count": 27,
   "id": "698e0073",
   "metadata": {
    "execution": {
     "iopub.execute_input": "2023-02-22T10:29:15.365098Z",
     "iopub.status.busy": "2023-02-22T10:29:15.363870Z",
     "iopub.status.idle": "2023-02-22T10:29:15.370770Z",
     "shell.execute_reply": "2023-02-22T10:29:15.369972Z"
    },
    "papermill": {
     "duration": 0.024696,
     "end_time": "2023-02-22T10:29:15.373018",
     "exception": false,
     "start_time": "2023-02-22T10:29:15.348322",
     "status": "completed"
    },
    "tags": []
   },
   "outputs": [
    {
     "data": {
      "text/plain": [
       "dtype('O')"
      ]
     },
     "execution_count": 27,
     "metadata": {},
     "output_type": "execute_result"
    }
   ],
   "source": [
    "sales_all['Order Date'].dtypes"
   ]
  },
  {
   "cell_type": "code",
   "execution_count": 28,
   "id": "95b53afa",
   "metadata": {
    "execution": {
     "iopub.execute_input": "2023-02-22T10:29:15.403675Z",
     "iopub.status.busy": "2023-02-22T10:29:15.402898Z",
     "iopub.status.idle": "2023-02-22T10:29:33.725432Z",
     "shell.execute_reply": "2023-02-22T10:29:33.723810Z"
    },
    "papermill": {
     "duration": 18.341057,
     "end_time": "2023-02-22T10:29:33.728260",
     "exception": false,
     "start_time": "2023-02-22T10:29:15.387203",
     "status": "completed"
    },
    "tags": []
   },
   "outputs": [
    {
     "name": "stderr",
     "output_type": "stream",
     "text": [
      "/opt/conda/lib/python3.7/site-packages/ipykernel_launcher.py:1: SettingWithCopyWarning: \n",
      "A value is trying to be set on a copy of a slice from a DataFrame.\n",
      "Try using .loc[row_indexer,col_indexer] = value instead\n",
      "\n",
      "See the caveats in the documentation: https://pandas.pydata.org/pandas-docs/stable/user_guide/indexing.html#returning-a-view-versus-a-copy\n",
      "  \"\"\"Entry point for launching an IPython kernel.\n"
     ]
    }
   ],
   "source": [
    "sales_all['hour']=pd.to_datetime(sales_all['Order Date']).dt.hour"
   ]
  },
  {
   "cell_type": "code",
   "execution_count": 29,
   "id": "e834ee5b",
   "metadata": {
    "execution": {
     "iopub.execute_input": "2023-02-22T10:29:33.761229Z",
     "iopub.status.busy": "2023-02-22T10:29:33.760730Z",
     "iopub.status.idle": "2023-02-22T10:29:33.784611Z",
     "shell.execute_reply": "2023-02-22T10:29:33.783690Z"
    },
    "papermill": {
     "duration": 0.042963,
     "end_time": "2023-02-22T10:29:33.786913",
     "exception": false,
     "start_time": "2023-02-22T10:29:33.743950",
     "status": "completed"
    },
    "tags": []
   },
   "outputs": [
    {
     "data": {
      "text/html": [
       "<div>\n",
       "<style scoped>\n",
       "    .dataframe tbody tr th:only-of-type {\n",
       "        vertical-align: middle;\n",
       "    }\n",
       "\n",
       "    .dataframe tbody tr th {\n",
       "        vertical-align: top;\n",
       "    }\n",
       "\n",
       "    .dataframe thead th {\n",
       "        text-align: right;\n",
       "    }\n",
       "</style>\n",
       "<table border=\"1\" class=\"dataframe\">\n",
       "  <thead>\n",
       "    <tr style=\"text-align: right;\">\n",
       "      <th></th>\n",
       "      <th>Order ID</th>\n",
       "      <th>Product</th>\n",
       "      <th>Quantity Ordered</th>\n",
       "      <th>Price Each</th>\n",
       "      <th>Order Date</th>\n",
       "      <th>Purchase Address</th>\n",
       "      <th>month</th>\n",
       "      <th>sales</th>\n",
       "      <th>city</th>\n",
       "      <th>hour</th>\n",
       "    </tr>\n",
       "  </thead>\n",
       "  <tbody>\n",
       "    <tr>\n",
       "      <th>0</th>\n",
       "      <td>236670</td>\n",
       "      <td>Wired Headphones</td>\n",
       "      <td>2</td>\n",
       "      <td>11.99</td>\n",
       "      <td>08/31/19 22:21</td>\n",
       "      <td>359 Spruce St, Seattle, WA 98101</td>\n",
       "      <td>8</td>\n",
       "      <td>23.98</td>\n",
       "      <td>Seattle</td>\n",
       "      <td>22</td>\n",
       "    </tr>\n",
       "    <tr>\n",
       "      <th>1</th>\n",
       "      <td>236671</td>\n",
       "      <td>Bose SoundSport Headphones</td>\n",
       "      <td>1</td>\n",
       "      <td>99.99</td>\n",
       "      <td>08/15/19 15:11</td>\n",
       "      <td>492 Ridge St, Dallas, TX 75001</td>\n",
       "      <td>8</td>\n",
       "      <td>99.99</td>\n",
       "      <td>Dallas</td>\n",
       "      <td>15</td>\n",
       "    </tr>\n",
       "    <tr>\n",
       "      <th>2</th>\n",
       "      <td>236672</td>\n",
       "      <td>iPhone</td>\n",
       "      <td>1</td>\n",
       "      <td>700.00</td>\n",
       "      <td>08/06/19 14:40</td>\n",
       "      <td>149 7th St, Portland, OR 97035</td>\n",
       "      <td>8</td>\n",
       "      <td>700.00</td>\n",
       "      <td>Portland</td>\n",
       "      <td>14</td>\n",
       "    </tr>\n",
       "    <tr>\n",
       "      <th>3</th>\n",
       "      <td>236673</td>\n",
       "      <td>AA Batteries (4-pack)</td>\n",
       "      <td>2</td>\n",
       "      <td>3.84</td>\n",
       "      <td>08/29/19 20:59</td>\n",
       "      <td>631 2nd St, Los Angeles, CA 90001</td>\n",
       "      <td>8</td>\n",
       "      <td>7.68</td>\n",
       "      <td>Los Angeles</td>\n",
       "      <td>20</td>\n",
       "    </tr>\n",
       "    <tr>\n",
       "      <th>4</th>\n",
       "      <td>236674</td>\n",
       "      <td>AA Batteries (4-pack)</td>\n",
       "      <td>2</td>\n",
       "      <td>3.84</td>\n",
       "      <td>08/15/19 19:53</td>\n",
       "      <td>736 14th St, New York City, NY 10001</td>\n",
       "      <td>8</td>\n",
       "      <td>7.68</td>\n",
       "      <td>New York City</td>\n",
       "      <td>19</td>\n",
       "    </tr>\n",
       "    <tr>\n",
       "      <th>...</th>\n",
       "      <td>...</td>\n",
       "      <td>...</td>\n",
       "      <td>...</td>\n",
       "      <td>...</td>\n",
       "      <td>...</td>\n",
       "      <td>...</td>\n",
       "      <td>...</td>\n",
       "      <td>...</td>\n",
       "      <td>...</td>\n",
       "      <td>...</td>\n",
       "    </tr>\n",
       "    <tr>\n",
       "      <th>25112</th>\n",
       "      <td>319666</td>\n",
       "      <td>Lightning Charging Cable</td>\n",
       "      <td>1</td>\n",
       "      <td>14.95</td>\n",
       "      <td>12/11/19 20:58</td>\n",
       "      <td>14 Madison St, San Francisco, CA 94016</td>\n",
       "      <td>12</td>\n",
       "      <td>14.95</td>\n",
       "      <td>San Francisco</td>\n",
       "      <td>20</td>\n",
       "    </tr>\n",
       "    <tr>\n",
       "      <th>25113</th>\n",
       "      <td>319667</td>\n",
       "      <td>AA Batteries (4-pack)</td>\n",
       "      <td>2</td>\n",
       "      <td>3.84</td>\n",
       "      <td>12/01/19 12:01</td>\n",
       "      <td>549 Willow St, Los Angeles, CA 90001</td>\n",
       "      <td>12</td>\n",
       "      <td>7.68</td>\n",
       "      <td>Los Angeles</td>\n",
       "      <td>12</td>\n",
       "    </tr>\n",
       "    <tr>\n",
       "      <th>25114</th>\n",
       "      <td>319668</td>\n",
       "      <td>Vareebadd Phone</td>\n",
       "      <td>1</td>\n",
       "      <td>400.00</td>\n",
       "      <td>12/09/19 06:43</td>\n",
       "      <td>273 Wilson St, Seattle, WA 98101</td>\n",
       "      <td>12</td>\n",
       "      <td>400.00</td>\n",
       "      <td>Seattle</td>\n",
       "      <td>6</td>\n",
       "    </tr>\n",
       "    <tr>\n",
       "      <th>25115</th>\n",
       "      <td>319669</td>\n",
       "      <td>Wired Headphones</td>\n",
       "      <td>1</td>\n",
       "      <td>11.99</td>\n",
       "      <td>12/03/19 10:39</td>\n",
       "      <td>778 River St, Dallas, TX 75001</td>\n",
       "      <td>12</td>\n",
       "      <td>11.99</td>\n",
       "      <td>Dallas</td>\n",
       "      <td>10</td>\n",
       "    </tr>\n",
       "    <tr>\n",
       "      <th>25116</th>\n",
       "      <td>319670</td>\n",
       "      <td>Bose SoundSport Headphones</td>\n",
       "      <td>1</td>\n",
       "      <td>99.99</td>\n",
       "      <td>12/21/19 21:45</td>\n",
       "      <td>747 Chestnut St, Los Angeles, CA 90001</td>\n",
       "      <td>12</td>\n",
       "      <td>99.99</td>\n",
       "      <td>Los Angeles</td>\n",
       "      <td>21</td>\n",
       "    </tr>\n",
       "  </tbody>\n",
       "</table>\n",
       "<p>185950 rows × 10 columns</p>\n",
       "</div>"
      ],
      "text/plain": [
       "      Order ID                     Product  Quantity Ordered  Price Each  \\\n",
       "0       236670            Wired Headphones                 2       11.99   \n",
       "1       236671  Bose SoundSport Headphones                 1       99.99   \n",
       "2       236672                      iPhone                 1      700.00   \n",
       "3       236673       AA Batteries (4-pack)                 2        3.84   \n",
       "4       236674       AA Batteries (4-pack)                 2        3.84   \n",
       "...        ...                         ...               ...         ...   \n",
       "25112   319666    Lightning Charging Cable                 1       14.95   \n",
       "25113   319667       AA Batteries (4-pack)                 2        3.84   \n",
       "25114   319668             Vareebadd Phone                 1      400.00   \n",
       "25115   319669            Wired Headphones                 1       11.99   \n",
       "25116   319670  Bose SoundSport Headphones                 1       99.99   \n",
       "\n",
       "           Order Date                        Purchase Address  month   sales  \\\n",
       "0      08/31/19 22:21        359 Spruce St, Seattle, WA 98101      8   23.98   \n",
       "1      08/15/19 15:11          492 Ridge St, Dallas, TX 75001      8   99.99   \n",
       "2      08/06/19 14:40          149 7th St, Portland, OR 97035      8  700.00   \n",
       "3      08/29/19 20:59       631 2nd St, Los Angeles, CA 90001      8    7.68   \n",
       "4      08/15/19 19:53    736 14th St, New York City, NY 10001      8    7.68   \n",
       "...               ...                                     ...    ...     ...   \n",
       "25112  12/11/19 20:58  14 Madison St, San Francisco, CA 94016     12   14.95   \n",
       "25113  12/01/19 12:01    549 Willow St, Los Angeles, CA 90001     12    7.68   \n",
       "25114  12/09/19 06:43        273 Wilson St, Seattle, WA 98101     12  400.00   \n",
       "25115  12/03/19 10:39          778 River St, Dallas, TX 75001     12   11.99   \n",
       "25116  12/21/19 21:45  747 Chestnut St, Los Angeles, CA 90001     12   99.99   \n",
       "\n",
       "                 city  hour  \n",
       "0             Seattle    22  \n",
       "1              Dallas    15  \n",
       "2            Portland    14  \n",
       "3         Los Angeles    20  \n",
       "4       New York City    19  \n",
       "...               ...   ...  \n",
       "25112   San Francisco    20  \n",
       "25113     Los Angeles    12  \n",
       "25114         Seattle     6  \n",
       "25115          Dallas    10  \n",
       "25116     Los Angeles    21  \n",
       "\n",
       "[185950 rows x 10 columns]"
      ]
     },
     "execution_count": 29,
     "metadata": {},
     "output_type": "execute_result"
    }
   ],
   "source": [
    "sales_all"
   ]
  },
  {
   "cell_type": "code",
   "execution_count": 30,
   "id": "53719d99",
   "metadata": {
    "execution": {
     "iopub.execute_input": "2023-02-22T10:29:33.820464Z",
     "iopub.status.busy": "2023-02-22T10:29:33.819635Z",
     "iopub.status.idle": "2023-02-22T10:29:33.965508Z",
     "shell.execute_reply": "2023-02-22T10:29:33.964101Z"
    },
    "papermill": {
     "duration": 0.165961,
     "end_time": "2023-02-22T10:29:33.968329",
     "exception": false,
     "start_time": "2023-02-22T10:29:33.802368",
     "status": "completed"
    },
    "tags": []
   },
   "outputs": [],
   "source": [
    "orders=[]\n",
    "hours=[]\n",
    "for hour,order in sales_all.groupby('hour'):\n",
    "    hours.append(hour)\n",
    "    orders.append(len(order))"
   ]
  },
  {
   "cell_type": "code",
   "execution_count": 31,
   "id": "dcbbf9e3",
   "metadata": {
    "execution": {
     "iopub.execute_input": "2023-02-22T10:29:34.001729Z",
     "iopub.status.busy": "2023-02-22T10:29:34.000540Z",
     "iopub.status.idle": "2023-02-22T10:29:34.013117Z",
     "shell.execute_reply": "2023-02-22T10:29:34.011837Z"
    },
    "papermill": {
     "duration": 0.031773,
     "end_time": "2023-02-22T10:29:34.015703",
     "exception": false,
     "start_time": "2023-02-22T10:29:33.983930",
     "status": "completed"
    },
    "tags": []
   },
   "outputs": [
    {
     "data": {
      "text/html": [
       "<div>\n",
       "<style scoped>\n",
       "    .dataframe tbody tr th:only-of-type {\n",
       "        vertical-align: middle;\n",
       "    }\n",
       "\n",
       "    .dataframe tbody tr th {\n",
       "        vertical-align: top;\n",
       "    }\n",
       "\n",
       "    .dataframe thead th {\n",
       "        text-align: right;\n",
       "    }\n",
       "</style>\n",
       "<table border=\"1\" class=\"dataframe\">\n",
       "  <thead>\n",
       "    <tr style=\"text-align: right;\">\n",
       "      <th></th>\n",
       "      <th>0</th>\n",
       "      <th>1</th>\n",
       "    </tr>\n",
       "  </thead>\n",
       "  <tbody>\n",
       "    <tr>\n",
       "      <th>0</th>\n",
       "      <td>0</td>\n",
       "      <td>3910</td>\n",
       "    </tr>\n",
       "    <tr>\n",
       "      <th>1</th>\n",
       "      <td>1</td>\n",
       "      <td>2350</td>\n",
       "    </tr>\n",
       "    <tr>\n",
       "      <th>2</th>\n",
       "      <td>2</td>\n",
       "      <td>1243</td>\n",
       "    </tr>\n",
       "    <tr>\n",
       "      <th>3</th>\n",
       "      <td>3</td>\n",
       "      <td>831</td>\n",
       "    </tr>\n",
       "    <tr>\n",
       "      <th>4</th>\n",
       "      <td>4</td>\n",
       "      <td>854</td>\n",
       "    </tr>\n",
       "    <tr>\n",
       "      <th>5</th>\n",
       "      <td>5</td>\n",
       "      <td>1321</td>\n",
       "    </tr>\n",
       "    <tr>\n",
       "      <th>6</th>\n",
       "      <td>6</td>\n",
       "      <td>2482</td>\n",
       "    </tr>\n",
       "    <tr>\n",
       "      <th>7</th>\n",
       "      <td>7</td>\n",
       "      <td>4011</td>\n",
       "    </tr>\n",
       "    <tr>\n",
       "      <th>8</th>\n",
       "      <td>8</td>\n",
       "      <td>6256</td>\n",
       "    </tr>\n",
       "    <tr>\n",
       "      <th>9</th>\n",
       "      <td>9</td>\n",
       "      <td>8748</td>\n",
       "    </tr>\n",
       "    <tr>\n",
       "      <th>10</th>\n",
       "      <td>10</td>\n",
       "      <td>10944</td>\n",
       "    </tr>\n",
       "    <tr>\n",
       "      <th>11</th>\n",
       "      <td>11</td>\n",
       "      <td>12411</td>\n",
       "    </tr>\n",
       "    <tr>\n",
       "      <th>12</th>\n",
       "      <td>12</td>\n",
       "      <td>12587</td>\n",
       "    </tr>\n",
       "    <tr>\n",
       "      <th>13</th>\n",
       "      <td>13</td>\n",
       "      <td>12129</td>\n",
       "    </tr>\n",
       "    <tr>\n",
       "      <th>14</th>\n",
       "      <td>14</td>\n",
       "      <td>10984</td>\n",
       "    </tr>\n",
       "    <tr>\n",
       "      <th>15</th>\n",
       "      <td>15</td>\n",
       "      <td>10175</td>\n",
       "    </tr>\n",
       "    <tr>\n",
       "      <th>16</th>\n",
       "      <td>16</td>\n",
       "      <td>10384</td>\n",
       "    </tr>\n",
       "    <tr>\n",
       "      <th>17</th>\n",
       "      <td>17</td>\n",
       "      <td>10899</td>\n",
       "    </tr>\n",
       "    <tr>\n",
       "      <th>18</th>\n",
       "      <td>18</td>\n",
       "      <td>12280</td>\n",
       "    </tr>\n",
       "    <tr>\n",
       "      <th>19</th>\n",
       "      <td>19</td>\n",
       "      <td>12905</td>\n",
       "    </tr>\n",
       "    <tr>\n",
       "      <th>20</th>\n",
       "      <td>20</td>\n",
       "      <td>12228</td>\n",
       "    </tr>\n",
       "    <tr>\n",
       "      <th>21</th>\n",
       "      <td>21</td>\n",
       "      <td>10921</td>\n",
       "    </tr>\n",
       "    <tr>\n",
       "      <th>22</th>\n",
       "      <td>22</td>\n",
       "      <td>8822</td>\n",
       "    </tr>\n",
       "    <tr>\n",
       "      <th>23</th>\n",
       "      <td>23</td>\n",
       "      <td>6275</td>\n",
       "    </tr>\n",
       "  </tbody>\n",
       "</table>\n",
       "</div>"
      ],
      "text/plain": [
       "     0      1\n",
       "0    0   3910\n",
       "1    1   2350\n",
       "2    2   1243\n",
       "3    3    831\n",
       "4    4    854\n",
       "5    5   1321\n",
       "6    6   2482\n",
       "7    7   4011\n",
       "8    8   6256\n",
       "9    9   8748\n",
       "10  10  10944\n",
       "11  11  12411\n",
       "12  12  12587\n",
       "13  13  12129\n",
       "14  14  10984\n",
       "15  15  10175\n",
       "16  16  10384\n",
       "17  17  10899\n",
       "18  18  12280\n",
       "19  19  12905\n",
       "20  20  12228\n",
       "21  21  10921\n",
       "22  22   8822\n",
       "23  23   6275"
      ]
     },
     "execution_count": 31,
     "metadata": {},
     "output_type": "execute_result"
    }
   ],
   "source": [
    "sale_time=pd.DataFrame(zip(hours,orders))\n",
    "sale_time"
   ]
  },
  {
   "cell_type": "code",
   "execution_count": 32,
   "id": "578f00a9",
   "metadata": {
    "execution": {
     "iopub.execute_input": "2023-02-22T10:29:34.049396Z",
     "iopub.status.busy": "2023-02-22T10:29:34.048943Z",
     "iopub.status.idle": "2023-02-22T10:29:34.061889Z",
     "shell.execute_reply": "2023-02-22T10:29:34.060627Z"
    },
    "papermill": {
     "duration": 0.03319,
     "end_time": "2023-02-22T10:29:34.064870",
     "exception": false,
     "start_time": "2023-02-22T10:29:34.031680",
     "status": "completed"
    },
    "tags": []
   },
   "outputs": [
    {
     "data": {
      "text/html": [
       "<div>\n",
       "<style scoped>\n",
       "    .dataframe tbody tr th:only-of-type {\n",
       "        vertical-align: middle;\n",
       "    }\n",
       "\n",
       "    .dataframe tbody tr th {\n",
       "        vertical-align: top;\n",
       "    }\n",
       "\n",
       "    .dataframe thead th {\n",
       "        text-align: right;\n",
       "    }\n",
       "</style>\n",
       "<table border=\"1\" class=\"dataframe\">\n",
       "  <thead>\n",
       "    <tr style=\"text-align: right;\">\n",
       "      <th></th>\n",
       "      <th>hour</th>\n",
       "      <th>hourly_sale</th>\n",
       "    </tr>\n",
       "  </thead>\n",
       "  <tbody>\n",
       "    <tr>\n",
       "      <th>0</th>\n",
       "      <td>0</td>\n",
       "      <td>3910</td>\n",
       "    </tr>\n",
       "    <tr>\n",
       "      <th>1</th>\n",
       "      <td>1</td>\n",
       "      <td>2350</td>\n",
       "    </tr>\n",
       "    <tr>\n",
       "      <th>2</th>\n",
       "      <td>2</td>\n",
       "      <td>1243</td>\n",
       "    </tr>\n",
       "    <tr>\n",
       "      <th>3</th>\n",
       "      <td>3</td>\n",
       "      <td>831</td>\n",
       "    </tr>\n",
       "    <tr>\n",
       "      <th>4</th>\n",
       "      <td>4</td>\n",
       "      <td>854</td>\n",
       "    </tr>\n",
       "    <tr>\n",
       "      <th>5</th>\n",
       "      <td>5</td>\n",
       "      <td>1321</td>\n",
       "    </tr>\n",
       "    <tr>\n",
       "      <th>6</th>\n",
       "      <td>6</td>\n",
       "      <td>2482</td>\n",
       "    </tr>\n",
       "    <tr>\n",
       "      <th>7</th>\n",
       "      <td>7</td>\n",
       "      <td>4011</td>\n",
       "    </tr>\n",
       "    <tr>\n",
       "      <th>8</th>\n",
       "      <td>8</td>\n",
       "      <td>6256</td>\n",
       "    </tr>\n",
       "    <tr>\n",
       "      <th>9</th>\n",
       "      <td>9</td>\n",
       "      <td>8748</td>\n",
       "    </tr>\n",
       "    <tr>\n",
       "      <th>10</th>\n",
       "      <td>10</td>\n",
       "      <td>10944</td>\n",
       "    </tr>\n",
       "    <tr>\n",
       "      <th>11</th>\n",
       "      <td>11</td>\n",
       "      <td>12411</td>\n",
       "    </tr>\n",
       "    <tr>\n",
       "      <th>12</th>\n",
       "      <td>12</td>\n",
       "      <td>12587</td>\n",
       "    </tr>\n",
       "    <tr>\n",
       "      <th>13</th>\n",
       "      <td>13</td>\n",
       "      <td>12129</td>\n",
       "    </tr>\n",
       "    <tr>\n",
       "      <th>14</th>\n",
       "      <td>14</td>\n",
       "      <td>10984</td>\n",
       "    </tr>\n",
       "    <tr>\n",
       "      <th>15</th>\n",
       "      <td>15</td>\n",
       "      <td>10175</td>\n",
       "    </tr>\n",
       "    <tr>\n",
       "      <th>16</th>\n",
       "      <td>16</td>\n",
       "      <td>10384</td>\n",
       "    </tr>\n",
       "    <tr>\n",
       "      <th>17</th>\n",
       "      <td>17</td>\n",
       "      <td>10899</td>\n",
       "    </tr>\n",
       "    <tr>\n",
       "      <th>18</th>\n",
       "      <td>18</td>\n",
       "      <td>12280</td>\n",
       "    </tr>\n",
       "    <tr>\n",
       "      <th>19</th>\n",
       "      <td>19</td>\n",
       "      <td>12905</td>\n",
       "    </tr>\n",
       "    <tr>\n",
       "      <th>20</th>\n",
       "      <td>20</td>\n",
       "      <td>12228</td>\n",
       "    </tr>\n",
       "    <tr>\n",
       "      <th>21</th>\n",
       "      <td>21</td>\n",
       "      <td>10921</td>\n",
       "    </tr>\n",
       "    <tr>\n",
       "      <th>22</th>\n",
       "      <td>22</td>\n",
       "      <td>8822</td>\n",
       "    </tr>\n",
       "    <tr>\n",
       "      <th>23</th>\n",
       "      <td>23</td>\n",
       "      <td>6275</td>\n",
       "    </tr>\n",
       "  </tbody>\n",
       "</table>\n",
       "</div>"
      ],
      "text/plain": [
       "    hour  hourly_sale\n",
       "0      0         3910\n",
       "1      1         2350\n",
       "2      2         1243\n",
       "3      3          831\n",
       "4      4          854\n",
       "5      5         1321\n",
       "6      6         2482\n",
       "7      7         4011\n",
       "8      8         6256\n",
       "9      9         8748\n",
       "10    10        10944\n",
       "11    11        12411\n",
       "12    12        12587\n",
       "13    13        12129\n",
       "14    14        10984\n",
       "15    15        10175\n",
       "16    16        10384\n",
       "17    17        10899\n",
       "18    18        12280\n",
       "19    19        12905\n",
       "20    20        12228\n",
       "21    21        10921\n",
       "22    22         8822\n",
       "23    23         6275"
      ]
     },
     "execution_count": 32,
     "metadata": {},
     "output_type": "execute_result"
    }
   ],
   "source": [
    "sale_time.rename(columns={0:'hour',1:'hourly_sale'},inplace=True)\n",
    "sale_time"
   ]
  },
  {
   "cell_type": "code",
   "execution_count": 33,
   "id": "a86845d4",
   "metadata": {
    "execution": {
     "iopub.execute_input": "2023-02-22T10:29:34.097699Z",
     "iopub.status.busy": "2023-02-22T10:29:34.097155Z",
     "iopub.status.idle": "2023-02-22T10:29:34.316592Z",
     "shell.execute_reply": "2023-02-22T10:29:34.315641Z"
    },
    "papermill": {
     "duration": 0.238792,
     "end_time": "2023-02-22T10:29:34.319094",
     "exception": false,
     "start_time": "2023-02-22T10:29:34.080302",
     "status": "completed"
    },
    "tags": []
   },
   "outputs": [
    {
     "data": {
      "image/png": "[encoded data removed]",
      "text/plain": [
       "<Figure size 432x288 with 1 Axes>"
      ]
     },
     "metadata": {
      "needs_background": "light"
     },
     "output_type": "display_data"
    }
   ],
   "source": [
    "plt.plot(sale_time['hour'],sale_time['hourly_sale'])\n",
    "plt.grid()"
   ]
  },
  {
   "cell_type": "markdown",
   "id": "ee45b307",
   "metadata": {
    "papermill": {
     "duration": 0.015536,
     "end_time": "2023-02-22T10:29:34.351172",
     "exception": false,
     "start_time": "2023-02-22T10:29:34.335636",
     "status": "completed"
    },
    "tags": []
   },
   "source": [
    "# Most sold product"
   ]
  },
  {
   "cell_type": "code",
   "execution_count": 34,
   "id": "c283ae41",
   "metadata": {
    "execution": {
     "iopub.execute_input": "2023-02-22T10:29:34.384786Z",
     "iopub.status.busy": "2023-02-22T10:29:34.383778Z",
     "iopub.status.idle": "2023-02-22T10:29:34.755306Z",
     "shell.execute_reply": "2023-02-22T10:29:34.754023Z"
    },
    "papermill": {
     "duration": 0.391025,
     "end_time": "2023-02-22T10:29:34.757911",
     "exception": false,
     "start_time": "2023-02-22T10:29:34.366886",
     "status": "completed"
    },
    "tags": []
   },
   "outputs": [
    {
     "data": {
      "text/plain": [
       "<AxesSubplot:xlabel='Product'>"
      ]
     },
     "execution_count": 34,
     "metadata": {},
     "output_type": "execute_result"
    },
    {
     "data": {
      "image/png": "[encoded data removed]",
      "text/plain": [
       "<Figure size 432x288 with 1 Axes>"
      ]
     },
     "metadata": {
      "needs_background": "light"
     },
     "output_type": "display_data"
    }
   ],
   "source": [
    "sales_all.groupby('Product')['Quantity Ordered'].sum().plot.bar()"
   ]
  },
  {
   "cell_type": "code",
   "execution_count": 35,
   "id": "1e78c88e",
   "metadata": {
    "execution": {
     "iopub.execute_input": "2023-02-22T10:29:34.792377Z",
     "iopub.status.busy": "2023-02-22T10:29:34.791946Z",
     "iopub.status.idle": "2023-02-22T10:29:34.823313Z",
     "shell.execute_reply": "2023-02-22T10:29:34.822372Z"
    },
    "papermill": {
     "duration": 0.051476,
     "end_time": "2023-02-22T10:29:34.825988",
     "exception": false,
     "start_time": "2023-02-22T10:29:34.774512",
     "status": "completed"
    },
    "tags": []
   },
   "outputs": [
    {
     "data": {
      "text/plain": [
       "Product\n",
       "20in Monitor                   109.99\n",
       "27in 4K Gaming Monitor         389.99\n",
       "27in FHD Monitor               149.99\n",
       "34in Ultrawide Monitor         379.99\n",
       "AA Batteries (4-pack)            3.84\n",
       "AAA Batteries (4-pack)           2.99\n",
       "Apple Airpods Headphones       150.00\n",
       "Bose SoundSport Headphones      99.99\n",
       "Flatscreen TV                  300.00\n",
       "Google Phone                   600.00\n",
       "LG Dryer                       600.00\n",
       "LG Washing Machine             600.00\n",
       "Lightning Charging Cable        14.95\n",
       "Macbook Pro Laptop            1700.00\n",
       "ThinkPad Laptop                999.99\n",
       "USB-C Charging Cable            11.95\n",
       "Vareebadd Phone                400.00\n",
       "Wired Headphones                11.99\n",
       "iPhone                         700.00\n",
       "Name: Price Each, dtype: float64"
      ]
     },
     "execution_count": 35,
     "metadata": {},
     "output_type": "execute_result"
    }
   ],
   "source": [
    "sales_all.groupby('Product')['Price Each'].mean()"
   ]
  },
  {
   "cell_type": "code",
   "execution_count": 36,
   "id": "49d88863",
   "metadata": {
    "execution": {
     "iopub.execute_input": "2023-02-22T10:29:34.860944Z",
     "iopub.status.busy": "2023-02-22T10:29:34.860187Z",
     "iopub.status.idle": "2023-02-22T10:29:34.928102Z",
     "shell.execute_reply": "2023-02-22T10:29:34.926902Z"
    },
    "papermill": {
     "duration": 0.088641,
     "end_time": "2023-02-22T10:29:34.931112",
     "exception": false,
     "start_time": "2023-02-22T10:29:34.842471",
     "status": "completed"
    },
    "tags": []
   },
   "outputs": [],
   "source": [
    "products=sales_all.groupby('Product')['Quantity Ordered'].sum().index\n",
    "quantity=sales_all.groupby('Product')['Quantity Ordered'].sum()\n",
    "prices=sales_all.groupby('Product')['Price Each'].mean()"
   ]
  },
  {
   "cell_type": "code",
   "execution_count": 37,
   "id": "5753168f",
   "metadata": {
    "execution": {
     "iopub.execute_input": "2023-02-22T10:29:34.966225Z",
     "iopub.status.busy": "2023-02-22T10:29:34.965788Z",
     "iopub.status.idle": "2023-02-22T10:29:35.530998Z",
     "shell.execute_reply": "2023-02-22T10:29:35.529643Z"
    },
    "papermill": {
     "duration": 0.586016,
     "end_time": "2023-02-22T10:29:35.533497",
     "exception": false,
     "start_time": "2023-02-22T10:29:34.947481",
     "status": "completed"
    },
    "tags": []
   },
   "outputs": [
    {
     "name": "stderr",
     "output_type": "stream",
     "text": [
      "/opt/conda/lib/python3.7/site-packages/ipykernel_launcher.py:5: UserWarning: FixedFormatter should only be used together with FixedLocator\n",
      "  \"\"\"\n"
     ]
    },
    {
     "data": {
      "image/png": "[encoded data removed]",
      "text/plain": [
       "<Figure size 432x288 with 2 Axes>"
      ]
     },
     "metadata": {
      "needs_background": "light"
     },
     "output_type": "display_data"
    }
   ],
   "source": [
    "fig,ax1=plt.subplots()\n",
    "ax2=ax1.twinx()\n",
    "ax1.bar(products,quantity,color='g')\n",
    "ax2.plot(products,prices)\n",
    "ax1.set_xticklabels(products,rotation=90);"
   ]
  },
  {
   "cell_type": "markdown",
   "id": "829713af",
   "metadata": {
    "papermill": {
     "duration": 0.016672,
     "end_time": "2023-02-22T10:29:35.567335",
     "exception": false,
     "start_time": "2023-02-22T10:29:35.550663",
     "status": "completed"
    },
    "tags": []
   },
   "source": [
    "# Products which are most often sold together"
   ]
  },
  {
   "cell_type": "code",
   "execution_count": 38,
   "id": "1009db02",
   "metadata": {
    "execution": {
     "iopub.execute_input": "2023-02-22T10:29:35.605990Z",
     "iopub.status.busy": "2023-02-22T10:29:35.605470Z",
     "iopub.status.idle": "2023-02-22T10:29:35.687392Z",
     "shell.execute_reply": "2023-02-22T10:29:35.686207Z"
    },
    "papermill": {
     "duration": 0.105078,
     "end_time": "2023-02-22T10:29:35.689895",
     "exception": false,
     "start_time": "2023-02-22T10:29:35.584817",
     "status": "completed"
    },
    "tags": []
   },
   "outputs": [
    {
     "data": {
      "text/html": [
       "<div>\n",
       "<style scoped>\n",
       "    .dataframe tbody tr th:only-of-type {\n",
       "        vertical-align: middle;\n",
       "    }\n",
       "\n",
       "    .dataframe tbody tr th {\n",
       "        vertical-align: top;\n",
       "    }\n",
       "\n",
       "    .dataframe thead th {\n",
       "        text-align: right;\n",
       "    }\n",
       "</style>\n",
       "<table border=\"1\" class=\"dataframe\">\n",
       "  <thead>\n",
       "    <tr style=\"text-align: right;\">\n",
       "      <th></th>\n",
       "      <th>Order ID</th>\n",
       "      <th>Product</th>\n",
       "      <th>Quantity Ordered</th>\n",
       "      <th>Price Each</th>\n",
       "      <th>Order Date</th>\n",
       "      <th>Purchase Address</th>\n",
       "      <th>month</th>\n",
       "      <th>sales</th>\n",
       "      <th>city</th>\n",
       "      <th>hour</th>\n",
       "    </tr>\n",
       "  </thead>\n",
       "  <tbody>\n",
       "    <tr>\n",
       "      <th>46</th>\n",
       "      <td>236716</td>\n",
       "      <td>AA Batteries (4-pack)</td>\n",
       "      <td>2</td>\n",
       "      <td>3.84</td>\n",
       "      <td>08/17/19 20:12</td>\n",
       "      <td>84 Cedar St, San Francisco, CA 94016</td>\n",
       "      <td>8</td>\n",
       "      <td>7.68</td>\n",
       "      <td>San Francisco</td>\n",
       "      <td>20</td>\n",
       "    </tr>\n",
       "    <tr>\n",
       "      <th>47</th>\n",
       "      <td>236716</td>\n",
       "      <td>USB-C Charging Cable</td>\n",
       "      <td>1</td>\n",
       "      <td>11.95</td>\n",
       "      <td>08/17/19 20:12</td>\n",
       "      <td>84 Cedar St, San Francisco, CA 94016</td>\n",
       "      <td>8</td>\n",
       "      <td>11.95</td>\n",
       "      <td>San Francisco</td>\n",
       "      <td>20</td>\n",
       "    </tr>\n",
       "    <tr>\n",
       "      <th>60</th>\n",
       "      <td>236729</td>\n",
       "      <td>iPhone</td>\n",
       "      <td>1</td>\n",
       "      <td>700.00</td>\n",
       "      <td>08/09/19 09:28</td>\n",
       "      <td>635 Lake St, San Francisco, CA 94016</td>\n",
       "      <td>8</td>\n",
       "      <td>700.00</td>\n",
       "      <td>San Francisco</td>\n",
       "      <td>9</td>\n",
       "    </tr>\n",
       "    <tr>\n",
       "      <th>61</th>\n",
       "      <td>236729</td>\n",
       "      <td>Apple Airpods Headphones</td>\n",
       "      <td>1</td>\n",
       "      <td>150.00</td>\n",
       "      <td>08/09/19 09:28</td>\n",
       "      <td>635 Lake St, San Francisco, CA 94016</td>\n",
       "      <td>8</td>\n",
       "      <td>150.00</td>\n",
       "      <td>San Francisco</td>\n",
       "      <td>9</td>\n",
       "    </tr>\n",
       "    <tr>\n",
       "      <th>62</th>\n",
       "      <td>236730</td>\n",
       "      <td>Google Phone</td>\n",
       "      <td>1</td>\n",
       "      <td>600.00</td>\n",
       "      <td>08/02/19 10:17</td>\n",
       "      <td>445 Lincoln St, New York City, NY 10001</td>\n",
       "      <td>8</td>\n",
       "      <td>600.00</td>\n",
       "      <td>New York City</td>\n",
       "      <td>10</td>\n",
       "    </tr>\n",
       "  </tbody>\n",
       "</table>\n",
       "</div>"
      ],
      "text/plain": [
       "   Order ID                   Product  Quantity Ordered  Price Each  \\\n",
       "46   236716     AA Batteries (4-pack)                 2        3.84   \n",
       "47   236716      USB-C Charging Cable                 1       11.95   \n",
       "60   236729                    iPhone                 1      700.00   \n",
       "61   236729  Apple Airpods Headphones                 1      150.00   \n",
       "62   236730              Google Phone                 1      600.00   \n",
       "\n",
       "        Order Date                         Purchase Address  month   sales  \\\n",
       "46  08/17/19 20:12     84 Cedar St, San Francisco, CA 94016      8    7.68   \n",
       "47  08/17/19 20:12     84 Cedar St, San Francisco, CA 94016      8   11.95   \n",
       "60  08/09/19 09:28     635 Lake St, San Francisco, CA 94016      8  700.00   \n",
       "61  08/09/19 09:28     635 Lake St, San Francisco, CA 94016      8  150.00   \n",
       "62  08/02/19 10:17  445 Lincoln St, New York City, NY 10001      8  600.00   \n",
       "\n",
       "              city  hour  \n",
       "46   San Francisco    20  \n",
       "47   San Francisco    20  \n",
       "60   San Francisco     9  \n",
       "61   San Francisco     9  \n",
       "62   New York City    10  "
      ]
     },
     "execution_count": 38,
     "metadata": {},
     "output_type": "execute_result"
    }
   ],
   "source": [
    "# Same order ID products are sold together\n",
    "df=sales_all['Order ID'].duplicated(keep=False)\n",
    "df1=sales_all[df]\n",
    "df1.head()"
   ]
  },
  {
   "cell_type": "code",
   "execution_count": 39,
   "id": "dd2122a8",
   "metadata": {
    "execution": {
     "iopub.execute_input": "2023-02-22T10:29:35.728472Z",
     "iopub.status.busy": "2023-02-22T10:29:35.728048Z",
     "iopub.status.idle": "2023-02-22T10:29:36.551656Z",
     "shell.execute_reply": "2023-02-22T10:29:36.550427Z"
    },
    "papermill": {
     "duration": 0.84723,
     "end_time": "2023-02-22T10:29:36.554852",
     "exception": false,
     "start_time": "2023-02-22T10:29:35.707622",
     "status": "completed"
    },
    "tags": []
   },
   "outputs": [
    {
     "name": "stderr",
     "output_type": "stream",
     "text": [
      "/opt/conda/lib/python3.7/site-packages/ipykernel_launcher.py:1: SettingWithCopyWarning: \n",
      "A value is trying to be set on a copy of a slice from a DataFrame.\n",
      "Try using .loc[row_indexer,col_indexer] = value instead\n",
      "\n",
      "See the caveats in the documentation: https://pandas.pydata.org/pandas-docs/stable/user_guide/indexing.html#returning-a-view-versus-a-copy\n",
      "  \"\"\"Entry point for launching an IPython kernel.\n"
     ]
    }
   ],
   "source": [
    "df1['grouped']=df1.groupby('Order ID')['Product'].transform(lambda x:','.join(x))"
   ]
  },
  {
   "cell_type": "code",
   "execution_count": 40,
   "id": "401902f5",
   "metadata": {
    "execution": {
     "iopub.execute_input": "2023-02-22T10:29:36.592144Z",
     "iopub.status.busy": "2023-02-22T10:29:36.591671Z",
     "iopub.status.idle": "2023-02-22T10:29:36.611574Z",
     "shell.execute_reply": "2023-02-22T10:29:36.609947Z"
    },
    "papermill": {
     "duration": 0.041918,
     "end_time": "2023-02-22T10:29:36.614522",
     "exception": false,
     "start_time": "2023-02-22T10:29:36.572604",
     "status": "completed"
    },
    "tags": []
   },
   "outputs": [
    {
     "data": {
      "text/html": [
       "<div>\n",
       "<style scoped>\n",
       "    .dataframe tbody tr th:only-of-type {\n",
       "        vertical-align: middle;\n",
       "    }\n",
       "\n",
       "    .dataframe tbody tr th {\n",
       "        vertical-align: top;\n",
       "    }\n",
       "\n",
       "    .dataframe thead th {\n",
       "        text-align: right;\n",
       "    }\n",
       "</style>\n",
       "<table border=\"1\" class=\"dataframe\">\n",
       "  <thead>\n",
       "    <tr style=\"text-align: right;\">\n",
       "      <th></th>\n",
       "      <th>Order ID</th>\n",
       "      <th>Product</th>\n",
       "      <th>Quantity Ordered</th>\n",
       "      <th>Price Each</th>\n",
       "      <th>Order Date</th>\n",
       "      <th>Purchase Address</th>\n",
       "      <th>month</th>\n",
       "      <th>sales</th>\n",
       "      <th>city</th>\n",
       "      <th>hour</th>\n",
       "      <th>grouped</th>\n",
       "    </tr>\n",
       "  </thead>\n",
       "  <tbody>\n",
       "    <tr>\n",
       "      <th>46</th>\n",
       "      <td>236716</td>\n",
       "      <td>AA Batteries (4-pack)</td>\n",
       "      <td>2</td>\n",
       "      <td>3.84</td>\n",
       "      <td>08/17/19 20:12</td>\n",
       "      <td>84 Cedar St, San Francisco, CA 94016</td>\n",
       "      <td>8</td>\n",
       "      <td>7.68</td>\n",
       "      <td>San Francisco</td>\n",
       "      <td>20</td>\n",
       "      <td>AA Batteries (4-pack),USB-C Charging Cable</td>\n",
       "    </tr>\n",
       "    <tr>\n",
       "      <th>47</th>\n",
       "      <td>236716</td>\n",
       "      <td>USB-C Charging Cable</td>\n",
       "      <td>1</td>\n",
       "      <td>11.95</td>\n",
       "      <td>08/17/19 20:12</td>\n",
       "      <td>84 Cedar St, San Francisco, CA 94016</td>\n",
       "      <td>8</td>\n",
       "      <td>11.95</td>\n",
       "      <td>San Francisco</td>\n",
       "      <td>20</td>\n",
       "      <td>AA Batteries (4-pack),USB-C Charging Cable</td>\n",
       "    </tr>\n",
       "    <tr>\n",
       "      <th>60</th>\n",
       "      <td>236729</td>\n",
       "      <td>iPhone</td>\n",
       "      <td>1</td>\n",
       "      <td>700.00</td>\n",
       "      <td>08/09/19 09:28</td>\n",
       "      <td>635 Lake St, San Francisco, CA 94016</td>\n",
       "      <td>8</td>\n",
       "      <td>700.00</td>\n",
       "      <td>San Francisco</td>\n",
       "      <td>9</td>\n",
       "      <td>iPhone,Apple Airpods Headphones</td>\n",
       "    </tr>\n",
       "    <tr>\n",
       "      <th>61</th>\n",
       "      <td>236729</td>\n",
       "      <td>Apple Airpods Headphones</td>\n",
       "      <td>1</td>\n",
       "      <td>150.00</td>\n",
       "      <td>08/09/19 09:28</td>\n",
       "      <td>635 Lake St, San Francisco, CA 94016</td>\n",
       "      <td>8</td>\n",
       "      <td>150.00</td>\n",
       "      <td>San Francisco</td>\n",
       "      <td>9</td>\n",
       "      <td>iPhone,Apple Airpods Headphones</td>\n",
       "    </tr>\n",
       "    <tr>\n",
       "      <th>62</th>\n",
       "      <td>236730</td>\n",
       "      <td>Google Phone</td>\n",
       "      <td>1</td>\n",
       "      <td>600.00</td>\n",
       "      <td>08/02/19 10:17</td>\n",
       "      <td>445 Lincoln St, New York City, NY 10001</td>\n",
       "      <td>8</td>\n",
       "      <td>600.00</td>\n",
       "      <td>New York City</td>\n",
       "      <td>10</td>\n",
       "      <td>Google Phone,Wired Headphones</td>\n",
       "    </tr>\n",
       "  </tbody>\n",
       "</table>\n",
       "</div>"
      ],
      "text/plain": [
       "   Order ID                   Product  Quantity Ordered  Price Each  \\\n",
       "46   236716     AA Batteries (4-pack)                 2        3.84   \n",
       "47   236716      USB-C Charging Cable                 1       11.95   \n",
       "60   236729                    iPhone                 1      700.00   \n",
       "61   236729  Apple Airpods Headphones                 1      150.00   \n",
       "62   236730              Google Phone                 1      600.00   \n",
       "\n",
       "        Order Date                         Purchase Address  month   sales  \\\n",
       "46  08/17/19 20:12     84 Cedar St, San Francisco, CA 94016      8    7.68   \n",
       "47  08/17/19 20:12     84 Cedar St, San Francisco, CA 94016      8   11.95   \n",
       "60  08/09/19 09:28     635 Lake St, San Francisco, CA 94016      8  700.00   \n",
       "61  08/09/19 09:28     635 Lake St, San Francisco, CA 94016      8  150.00   \n",
       "62  08/02/19 10:17  445 Lincoln St, New York City, NY 10001      8  600.00   \n",
       "\n",
       "              city  hour                                     grouped  \n",
       "46   San Francisco    20  AA Batteries (4-pack),USB-C Charging Cable  \n",
       "47   San Francisco    20  AA Batteries (4-pack),USB-C Charging Cable  \n",
       "60   San Francisco     9             iPhone,Apple Airpods Headphones  \n",
       "61   San Francisco     9             iPhone,Apple Airpods Headphones  \n",
       "62   New York City    10               Google Phone,Wired Headphones  "
      ]
     },
     "execution_count": 40,
     "metadata": {},
     "output_type": "execute_result"
    }
   ],
   "source": [
    "df1.head()"
   ]
  },
  {
   "cell_type": "code",
   "execution_count": 41,
   "id": "c99cca1a",
   "metadata": {
    "execution": {
     "iopub.execute_input": "2023-02-22T10:29:36.653844Z",
     "iopub.status.busy": "2023-02-22T10:29:36.653355Z",
     "iopub.status.idle": "2023-02-22T10:29:36.684026Z",
     "shell.execute_reply": "2023-02-22T10:29:36.682767Z"
    },
    "papermill": {
     "duration": 0.054002,
     "end_time": "2023-02-22T10:29:36.686592",
     "exception": false,
     "start_time": "2023-02-22T10:29:36.632590",
     "status": "completed"
    },
    "tags": []
   },
   "outputs": [
    {
     "data": {
      "text/html": [
       "<div>\n",
       "<style scoped>\n",
       "    .dataframe tbody tr th:only-of-type {\n",
       "        vertical-align: middle;\n",
       "    }\n",
       "\n",
       "    .dataframe tbody tr th {\n",
       "        vertical-align: top;\n",
       "    }\n",
       "\n",
       "    .dataframe thead th {\n",
       "        text-align: right;\n",
       "    }\n",
       "</style>\n",
       "<table border=\"1\" class=\"dataframe\">\n",
       "  <thead>\n",
       "    <tr style=\"text-align: right;\">\n",
       "      <th></th>\n",
       "      <th>Order ID</th>\n",
       "      <th>Product</th>\n",
       "      <th>Quantity Ordered</th>\n",
       "      <th>Price Each</th>\n",
       "      <th>Order Date</th>\n",
       "      <th>Purchase Address</th>\n",
       "      <th>month</th>\n",
       "      <th>sales</th>\n",
       "      <th>city</th>\n",
       "      <th>hour</th>\n",
       "      <th>grouped</th>\n",
       "    </tr>\n",
       "  </thead>\n",
       "  <tbody>\n",
       "    <tr>\n",
       "      <th>46</th>\n",
       "      <td>236716</td>\n",
       "      <td>AA Batteries (4-pack)</td>\n",
       "      <td>2</td>\n",
       "      <td>3.84</td>\n",
       "      <td>08/17/19 20:12</td>\n",
       "      <td>84 Cedar St, San Francisco, CA 94016</td>\n",
       "      <td>8</td>\n",
       "      <td>7.68</td>\n",
       "      <td>San Francisco</td>\n",
       "      <td>20</td>\n",
       "      <td>AA Batteries (4-pack),USB-C Charging Cable</td>\n",
       "    </tr>\n",
       "    <tr>\n",
       "      <th>60</th>\n",
       "      <td>236729</td>\n",
       "      <td>iPhone</td>\n",
       "      <td>1</td>\n",
       "      <td>700.00</td>\n",
       "      <td>08/09/19 09:28</td>\n",
       "      <td>635 Lake St, San Francisco, CA 94016</td>\n",
       "      <td>8</td>\n",
       "      <td>700.00</td>\n",
       "      <td>San Francisco</td>\n",
       "      <td>9</td>\n",
       "      <td>iPhone,Apple Airpods Headphones</td>\n",
       "    </tr>\n",
       "    <tr>\n",
       "      <th>62</th>\n",
       "      <td>236730</td>\n",
       "      <td>Google Phone</td>\n",
       "      <td>1</td>\n",
       "      <td>600.00</td>\n",
       "      <td>08/02/19 10:17</td>\n",
       "      <td>445 Lincoln St, New York City, NY 10001</td>\n",
       "      <td>8</td>\n",
       "      <td>600.00</td>\n",
       "      <td>New York City</td>\n",
       "      <td>10</td>\n",
       "      <td>Google Phone,Wired Headphones</td>\n",
       "    </tr>\n",
       "    <tr>\n",
       "      <th>132</th>\n",
       "      <td>236799</td>\n",
       "      <td>Google Phone</td>\n",
       "      <td>1</td>\n",
       "      <td>600.00</td>\n",
       "      <td>08/01/19 12:38</td>\n",
       "      <td>309 2nd St, San Francisco, CA 94016</td>\n",
       "      <td>8</td>\n",
       "      <td>600.00</td>\n",
       "      <td>San Francisco</td>\n",
       "      <td>12</td>\n",
       "      <td>Google Phone,Wired Headphones</td>\n",
       "    </tr>\n",
       "    <tr>\n",
       "      <th>163</th>\n",
       "      <td>236829</td>\n",
       "      <td>Vareebadd Phone</td>\n",
       "      <td>1</td>\n",
       "      <td>400.00</td>\n",
       "      <td>08/16/19 08:51</td>\n",
       "      <td>27 2nd St, Los Angeles, CA 90001</td>\n",
       "      <td>8</td>\n",
       "      <td>400.00</td>\n",
       "      <td>Los Angeles</td>\n",
       "      <td>8</td>\n",
       "      <td>Vareebadd Phone,USB-C Charging Cable</td>\n",
       "    </tr>\n",
       "  </tbody>\n",
       "</table>\n",
       "</div>"
      ],
      "text/plain": [
       "    Order ID                Product  Quantity Ordered  Price Each  \\\n",
       "46    236716  AA Batteries (4-pack)                 2        3.84   \n",
       "60    236729                 iPhone                 1      700.00   \n",
       "62    236730           Google Phone                 1      600.00   \n",
       "132   236799           Google Phone                 1      600.00   \n",
       "163   236829        Vareebadd Phone                 1      400.00   \n",
       "\n",
       "         Order Date                         Purchase Address  month   sales  \\\n",
       "46   08/17/19 20:12     84 Cedar St, San Francisco, CA 94016      8    7.68   \n",
       "60   08/09/19 09:28     635 Lake St, San Francisco, CA 94016      8  700.00   \n",
       "62   08/02/19 10:17  445 Lincoln St, New York City, NY 10001      8  600.00   \n",
       "132  08/01/19 12:38      309 2nd St, San Francisco, CA 94016      8  600.00   \n",
       "163  08/16/19 08:51         27 2nd St, Los Angeles, CA 90001      8  400.00   \n",
       "\n",
       "               city  hour                                     grouped  \n",
       "46    San Francisco    20  AA Batteries (4-pack),USB-C Charging Cable  \n",
       "60    San Francisco     9             iPhone,Apple Airpods Headphones  \n",
       "62    New York City    10               Google Phone,Wired Headphones  \n",
       "132   San Francisco    12               Google Phone,Wired Headphones  \n",
       "163     Los Angeles     8        Vareebadd Phone,USB-C Charging Cable  "
      ]
     },
     "execution_count": 41,
     "metadata": {},
     "output_type": "execute_result"
    }
   ],
   "source": [
    "df1=df1.drop_duplicates(subset=['Order ID'])\n",
    "df1.head()"
   ]
  },
  {
   "cell_type": "code",
   "execution_count": 42,
   "id": "c852c8ab",
   "metadata": {
    "execution": {
     "iopub.execute_input": "2023-02-22T10:29:36.728065Z",
     "iopub.status.busy": "2023-02-22T10:29:36.727063Z",
     "iopub.status.idle": "2023-02-22T10:29:36.912403Z",
     "shell.execute_reply": "2023-02-22T10:29:36.910725Z"
    },
    "papermill": {
     "duration": 0.210249,
     "end_time": "2023-02-22T10:29:36.916111",
     "exception": false,
     "start_time": "2023-02-22T10:29:36.705862",
     "status": "completed"
    },
    "tags": []
   },
   "outputs": [
    {
     "data": {
      "text/plain": [
       "<AxesSubplot:ylabel='grouped'>"
      ]
     },
     "execution_count": 42,
     "metadata": {},
     "output_type": "execute_result"
    },
    {
     "data": {
      "image/png": "[encoded data removed]",
      "text/plain": [
       "<Figure size 432x288 with 1 Axes>"
      ]
     },
     "metadata": {},
     "output_type": "display_data"
    }
   ],
   "source": [
    "df1['grouped'].value_counts()[:5].plot.pie()"
   ]
  },
  {
   "cell_type": "code",
   "execution_count": null,
   "id": "686470f3",
   "metadata": {
    "papermill": {
     "duration": 0.018529,
     "end_time": "2023-02-22T10:29:36.953620",
     "exception": false,
     "start_time": "2023-02-22T10:29:36.935091",
     "status": "completed"
    },
    "tags": []
   },
   "outputs": [],
   "source": []
  }
 ],
 "metadata": {
  "kernelspec": {
   "display_name": "Python 3",
   "language": "python",
   "name": "python3"
  },
  "language_info": {
   "codemirror_mode": {
    "name": "ipython",
    "version": 3
   },
   "file_extension": ".py",
   "mimetype": "text/x-python",
   "name": "python",
   "nbconvert_exporter": "python",
   "pygments_lexer": "ipython3",
   "version": "3.7.12"
  },
  "papermill": {
   "default_parameters": {},
   "duration": 37.21809,
   "end_time": "2023-02-22T10:29:37.795671",
   "environment_variables": {},
   "exception": null,
   "input_path": "__notebook__.ipynb",
   "output_path": "__notebook__.ipynb",
   "parameters": {},
   "start_time": "2023-02-22T10:29:00.577581",
   "version": "2.3.4"
  }
 },
 "nbformat": 4,
 "nbformat_minor": 5
}
